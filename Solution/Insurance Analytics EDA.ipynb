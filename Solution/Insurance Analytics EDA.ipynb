{
 "cells": [
  {
   "cell_type": "code",
   "execution_count": 65,
   "id": "d3246025-fc89-4d9f-acb6-14d91f49c7b4",
   "metadata": {},
   "outputs": [],
   "source": [
    "import pandas as pd"
   ]
  },
  {
   "cell_type": "code",
   "execution_count": 66,
   "id": "fdee6244-bee4-4bd2-a034-2ea6fa4e6eb0",
   "metadata": {},
   "outputs": [
    {
     "name": "stdout",
     "output_type": "stream",
     "text": [
      "Customers shape: (2500, 10)\n",
      "Policies shape: (4932, 7)\n",
      "Claims shape: (614, 8)\n",
      "Agents shape: (4336, 7)\n"
     ]
    }
   ],
   "source": [
    "# Load all four tables\n",
    "customers = pd.read_csv(\"customers.csv\")\n",
    "policies = pd.read_csv(\"policies.csv\")\n",
    "claims = pd.read_csv(\"claims.csv\")\n",
    "payments = pd.read_csv(\"payments.csv\")\n",
    "\n",
    "# Check if loaded correctly\n",
    "print(\"Customers shape:\", customers.shape)\n",
    "print(\"Policies shape:\", policies.shape)\n",
    "print(\"Claims shape:\", claims.shape)\n",
    "print(\"Agents shape:\", payments.shape)"
   ]
  },
  {
   "cell_type": "code",
   "execution_count": 67,
   "id": "f893178f-f6e5-44f3-87c8-da0a20aae58b",
   "metadata": {},
   "outputs": [
    {
     "data": {
      "text/plain": [
       "Customer_id         object\n",
       "Name                object\n",
       "Age                  int64\n",
       "Gender              object\n",
       "Email               object\n",
       "City                object\n",
       "State               object\n",
       "IncomeLevel         object\n",
       "MaritalStatus       object\n",
       "RegistrationDate    object\n",
       "dtype: object"
      ]
     },
     "execution_count": 67,
     "metadata": {},
     "output_type": "execute_result"
    }
   ],
   "source": [
    "customers.dtypes"
   ]
  },
  {
   "cell_type": "code",
   "execution_count": 68,
   "id": "11b41082-5a0f-4dd7-87f4-379078d10c8f",
   "metadata": {},
   "outputs": [],
   "source": [
    "def quick_summary(df):\n",
    "    summary = pd.DataFrame({\n",
    "        \"Data_Type\": df.dtypes,\n",
    "        \"Null_Count\": df.isna().sum(),\n",
    "        \"Unique_Count\": df.nunique(dropna=True)\n",
    "    })\n",
    "    \n",
    "    # Print overall duplicate count\n",
    "    duplicate_rows = df.duplicated().sum()\n",
    "    print(f\"Total Rows: {len(df)}\")\n",
    "    print(f\"Duplicate Rows: {duplicate_rows}\\n\")\n",
    "    \n",
    "    return summary\n"
   ]
  },
  {
   "cell_type": "code",
   "execution_count": 69,
   "id": "0c75ec3b-5b90-4c7f-b136-a525c1cd4e2a",
   "metadata": {},
   "outputs": [
    {
     "name": "stdout",
     "output_type": "stream",
     "text": [
      "Total Rows: 4932\n",
      "Duplicate Rows: 0\n",
      "\n",
      "                Data_Type  Null_Count  Unique_Count\n",
      "Policy_id          object           0          4932\n",
      "Customer_id        object           0          2500\n",
      "PolicyType         object           0             5\n",
      "PolicyStartDate    object           0           909\n",
      "PolicyEndDate      object           0          1458\n",
      "PremiumAmount       int64           0          4684\n",
      "PolicyStatus       object           0             3\n"
     ]
    }
   ],
   "source": [
    "summary_policies = quick_summary(policies)\n",
    "print(summary_policies)\n"
   ]
  },
  {
   "cell_type": "code",
   "execution_count": 70,
   "id": "28546b51-0620-4ddb-a205-f02a3e23123a",
   "metadata": {},
   "outputs": [
    {
     "name": "stdout",
     "output_type": "stream",
     "text": [
      "Total Rows: 2500\n",
      "Duplicate Rows: 0\n",
      "\n",
      "                 Data_Type  Null_Count  Unique_Count\n",
      "Customer_id         object           0          2500\n",
      "Name                object           0          2465\n",
      "Age                  int64           0            53\n",
      "Gender              object           0             3\n",
      "Email               object           0          2496\n",
      "City                object           0           316\n",
      "State               object           0            28\n",
      "IncomeLevel         object           0             3\n",
      "MaritalStatus       object           0             3\n",
      "RegistrationDate    object           0           981\n"
     ]
    }
   ],
   "source": [
    "summary_customers = quick_summary(customers)\n",
    "print(summary_customers)"
   ]
  },
  {
   "cell_type": "code",
   "execution_count": 71,
   "id": "b93042cd-d887-41c0-a22d-9cc23fae158a",
   "metadata": {},
   "outputs": [
    {
     "name": "stdout",
     "output_type": "stream",
     "text": [
      "Total Rows: 614\n",
      "Duplicate Rows: 0\n",
      "\n",
      "               Data_Type  Null_Count  Unique_Count\n",
      "Claim_id          object           0           614\n",
      "Policy_id         object           0           614\n",
      "Customer_id       object           0           569\n",
      "DateofClaim       object           0           388\n",
      "ClaimAmount        int64           0           614\n",
      "ClaimStatus       object           0             3\n",
      "ClaimReason       object           0             8\n",
      "SettlementDate    object           0           392\n"
     ]
    }
   ],
   "source": [
    "summary_claims = quick_summary(claims)\n",
    "print(summary_claims)"
   ]
  },
  {
   "cell_type": "code",
   "execution_count": 72,
   "id": "a792b75b-7645-42a6-bd4a-d5aae0f0f377",
   "metadata": {},
   "outputs": [
    {
     "name": "stdout",
     "output_type": "stream",
     "text": [
      "Total Rows: 4336\n",
      "Duplicate Rows: 0\n",
      "\n",
      "              Data_Type  Null_Count  Unique_Count\n",
      "Payment_id       object           0          4336\n",
      "Policy_id        object           0          2669\n",
      "Customer_id      object           0          1740\n",
      "PaymentMethod    object           0             4\n",
      "PaymentDate      object           0           832\n",
      "PaymentStatus    object           0             2\n",
      "PaymentAmount     int64           0          2552\n"
     ]
    }
   ],
   "source": [
    "summary_payments = quick_summary(payments)\n",
    "print(summary_payments)"
   ]
  },
  {
   "cell_type": "code",
   "execution_count": 73,
   "id": "c65d67b5-5b0a-4d50-af58-291071e4fac8",
   "metadata": {},
   "outputs": [],
   "source": [
    "cols_to_convert = ['Payment_id', 'Policy_id', 'Customer_id','PaymentMethod','PaymentStatus']\n",
    "payments[cols_to_convert] = payments[cols_to_convert].astype('string')\n"
   ]
  },
  {
   "cell_type": "code",
   "execution_count": 74,
   "id": "be6508dd-3fd8-4cd5-90f0-9986c40ff962",
   "metadata": {},
   "outputs": [
    {
     "data": {
      "text/plain": [
       "Payment_id       string[python]\n",
       "Policy_id        string[python]\n",
       "Customer_id      string[python]\n",
       "PaymentMethod    string[python]\n",
       "PaymentDate              object\n",
       "PaymentStatus    string[python]\n",
       "PaymentAmount             int64\n",
       "dtype: object"
      ]
     },
     "execution_count": 74,
     "metadata": {},
     "output_type": "execute_result"
    }
   ],
   "source": [
    "payments.dtypes"
   ]
  },
  {
   "cell_type": "code",
   "execution_count": 75,
   "id": "5d08d381-f985-4a18-9572-2131570bcfee",
   "metadata": {},
   "outputs": [
    {
     "data": {
      "text/html": [
       "<div>\n",
       "<style scoped>\n",
       "    .dataframe tbody tr th:only-of-type {\n",
       "        vertical-align: middle;\n",
       "    }\n",
       "\n",
       "    .dataframe tbody tr th {\n",
       "        vertical-align: top;\n",
       "    }\n",
       "\n",
       "    .dataframe thead th {\n",
       "        text-align: right;\n",
       "    }\n",
       "</style>\n",
       "<table border=\"1\" class=\"dataframe\">\n",
       "  <thead>\n",
       "    <tr style=\"text-align: right;\">\n",
       "      <th></th>\n",
       "      <th>Payment_id</th>\n",
       "      <th>Policy_id</th>\n",
       "      <th>Customer_id</th>\n",
       "      <th>PaymentMethod</th>\n",
       "      <th>PaymentDate</th>\n",
       "      <th>PaymentStatus</th>\n",
       "      <th>PaymentAmount</th>\n",
       "    </tr>\n",
       "  </thead>\n",
       "  <tbody>\n",
       "    <tr>\n",
       "      <th>0</th>\n",
       "      <td>PT3</td>\n",
       "      <td>P2</td>\n",
       "      <td>C1</td>\n",
       "      <td>UPI</td>\n",
       "      <td>06-02-2025</td>\n",
       "      <td>Successful</td>\n",
       "      <td>10872</td>\n",
       "    </tr>\n",
       "    <tr>\n",
       "      <th>1</th>\n",
       "      <td>PT6</td>\n",
       "      <td>P4</td>\n",
       "      <td>C2</td>\n",
       "      <td>Credit Card</td>\n",
       "      <td>28-12-2024</td>\n",
       "      <td>Failed</td>\n",
       "      <td>6865</td>\n",
       "    </tr>\n",
       "    <tr>\n",
       "      <th>2</th>\n",
       "      <td>PT7</td>\n",
       "      <td>P5</td>\n",
       "      <td>C2</td>\n",
       "      <td>Credit Card</td>\n",
       "      <td>01-10-2024</td>\n",
       "      <td>Failed</td>\n",
       "      <td>18269</td>\n",
       "    </tr>\n",
       "    <tr>\n",
       "      <th>3</th>\n",
       "      <td>PT8</td>\n",
       "      <td>P5</td>\n",
       "      <td>C2</td>\n",
       "      <td>Credit Card</td>\n",
       "      <td>06-04-2025</td>\n",
       "      <td>Failed</td>\n",
       "      <td>18269</td>\n",
       "    </tr>\n",
       "    <tr>\n",
       "      <th>4</th>\n",
       "      <td>PT11</td>\n",
       "      <td>P6</td>\n",
       "      <td>C3</td>\n",
       "      <td>Net Banking</td>\n",
       "      <td>15-01-2024</td>\n",
       "      <td>Successful</td>\n",
       "      <td>11743</td>\n",
       "    </tr>\n",
       "  </tbody>\n",
       "</table>\n",
       "</div>"
      ],
      "text/plain": [
       "  Payment_id Policy_id Customer_id PaymentMethod PaymentDate PaymentStatus  \\\n",
       "0        PT3        P2          C1           UPI  06-02-2025    Successful   \n",
       "1        PT6        P4          C2   Credit Card  28-12-2024        Failed   \n",
       "2        PT7        P5          C2   Credit Card  01-10-2024        Failed   \n",
       "3        PT8        P5          C2   Credit Card  06-04-2025        Failed   \n",
       "4       PT11        P6          C3   Net Banking  15-01-2024    Successful   \n",
       "\n",
       "   PaymentAmount  \n",
       "0          10872  \n",
       "1           6865  \n",
       "2          18269  \n",
       "3          18269  \n",
       "4          11743  "
      ]
     },
     "execution_count": 75,
     "metadata": {},
     "output_type": "execute_result"
    }
   ],
   "source": [
    "payments.head()"
   ]
  },
  {
   "cell_type": "code",
   "execution_count": 76,
   "id": "54150b65-1917-421c-a12e-9eb8560a8b06",
   "metadata": {},
   "outputs": [
    {
     "data": {
      "text/html": [
       "<div>\n",
       "<style scoped>\n",
       "    .dataframe tbody tr th:only-of-type {\n",
       "        vertical-align: middle;\n",
       "    }\n",
       "\n",
       "    .dataframe tbody tr th {\n",
       "        vertical-align: top;\n",
       "    }\n",
       "\n",
       "    .dataframe thead th {\n",
       "        text-align: right;\n",
       "    }\n",
       "</style>\n",
       "<table border=\"1\" class=\"dataframe\">\n",
       "  <thead>\n",
       "    <tr style=\"text-align: right;\">\n",
       "      <th></th>\n",
       "      <th>Customer_id</th>\n",
       "      <th>Name</th>\n",
       "      <th>Age</th>\n",
       "      <th>Gender</th>\n",
       "      <th>Email</th>\n",
       "      <th>City</th>\n",
       "      <th>State</th>\n",
       "      <th>IncomeLevel</th>\n",
       "      <th>MaritalStatus</th>\n",
       "      <th>RegistrationDate</th>\n",
       "    </tr>\n",
       "  </thead>\n",
       "  <tbody>\n",
       "    <tr>\n",
       "      <th>0</th>\n",
       "      <td>C1</td>\n",
       "      <td>Farhan Tank</td>\n",
       "      <td>58</td>\n",
       "      <td>Male</td>\n",
       "      <td>gangulyelakshi@chakraborty.com</td>\n",
       "      <td>Chandrapur</td>\n",
       "      <td>Gujarat</td>\n",
       "      <td>Low</td>\n",
       "      <td>Divorced</td>\n",
       "      <td>07-10-2024</td>\n",
       "    </tr>\n",
       "    <tr>\n",
       "      <th>1</th>\n",
       "      <td>C2</td>\n",
       "      <td>Onkar Rajagopalan</td>\n",
       "      <td>35</td>\n",
       "      <td>Male</td>\n",
       "      <td>ritvik11@gmail.com</td>\n",
       "      <td>Delhi</td>\n",
       "      <td>West Bengal</td>\n",
       "      <td>Low</td>\n",
       "      <td>Single</td>\n",
       "      <td>22-08-2023</td>\n",
       "    </tr>\n",
       "    <tr>\n",
       "      <th>2</th>\n",
       "      <td>C3</td>\n",
       "      <td>Sahil Kuruvilla</td>\n",
       "      <td>65</td>\n",
       "      <td>Male</td>\n",
       "      <td>kalekavya@sodhi-kata.com</td>\n",
       "      <td>Saharsa</td>\n",
       "      <td>Arunachal Pradesh</td>\n",
       "      <td>High</td>\n",
       "      <td>Divorced</td>\n",
       "      <td>12-06-2023</td>\n",
       "    </tr>\n",
       "    <tr>\n",
       "      <th>3</th>\n",
       "      <td>C4</td>\n",
       "      <td>Vidur Gera</td>\n",
       "      <td>52</td>\n",
       "      <td>Male</td>\n",
       "      <td>samarth02@yahoo.com</td>\n",
       "      <td>Dhanbad</td>\n",
       "      <td>Arunachal Pradesh</td>\n",
       "      <td>High</td>\n",
       "      <td>Married</td>\n",
       "      <td>29-05-2023</td>\n",
       "    </tr>\n",
       "    <tr>\n",
       "      <th>4</th>\n",
       "      <td>C5</td>\n",
       "      <td>Alia Rastogi</td>\n",
       "      <td>20</td>\n",
       "      <td>Male</td>\n",
       "      <td>ryan86@goda.com</td>\n",
       "      <td>Pudukkottai</td>\n",
       "      <td>Goa</td>\n",
       "      <td>Low</td>\n",
       "      <td>Single</td>\n",
       "      <td>30-08-2023</td>\n",
       "    </tr>\n",
       "  </tbody>\n",
       "</table>\n",
       "</div>"
      ],
      "text/plain": [
       "  Customer_id               Name  Age Gender                           Email  \\\n",
       "0          C1        Farhan Tank   58   Male  gangulyelakshi@chakraborty.com   \n",
       "1          C2  Onkar Rajagopalan   35   Male              ritvik11@gmail.com   \n",
       "2          C3    Sahil Kuruvilla   65   Male        kalekavya@sodhi-kata.com   \n",
       "3          C4         Vidur Gera   52   Male             samarth02@yahoo.com   \n",
       "4          C5       Alia Rastogi   20   Male                 ryan86@goda.com   \n",
       "\n",
       "          City              State IncomeLevel MaritalStatus RegistrationDate  \n",
       "0   Chandrapur            Gujarat         Low      Divorced       07-10-2024  \n",
       "1        Delhi        West Bengal         Low        Single       22-08-2023  \n",
       "2      Saharsa  Arunachal Pradesh        High      Divorced       12-06-2023  \n",
       "3      Dhanbad  Arunachal Pradesh        High       Married       29-05-2023  \n",
       "4  Pudukkottai                Goa         Low        Single       30-08-2023  "
      ]
     },
     "execution_count": 76,
     "metadata": {},
     "output_type": "execute_result"
    }
   ],
   "source": [
    "customers.head()"
   ]
  },
  {
   "cell_type": "code",
   "execution_count": 77,
   "id": "46c65e8b-ad18-485f-a9d3-64569d9985b9",
   "metadata": {},
   "outputs": [],
   "source": [
    "cols_to_convert = ['Customer_id','Name','Gender','Email','City','State','IncomeLevel','MaritalStatus']\n",
    "customers[cols_to_convert] = customers[cols_to_convert].astype('string')"
   ]
  },
  {
   "cell_type": "code",
   "execution_count": 78,
   "id": "decca512-7d43-4d0f-abc5-15abc6b82e33",
   "metadata": {},
   "outputs": [
    {
     "data": {
      "text/plain": [
       "Customer_id         string[python]\n",
       "Name                string[python]\n",
       "Age                          int64\n",
       "Gender              string[python]\n",
       "Email               string[python]\n",
       "City                string[python]\n",
       "State               string[python]\n",
       "IncomeLevel         string[python]\n",
       "MaritalStatus       string[python]\n",
       "RegistrationDate            object\n",
       "dtype: object"
      ]
     },
     "execution_count": 78,
     "metadata": {},
     "output_type": "execute_result"
    }
   ],
   "source": [
    "customers.dtypes"
   ]
  },
  {
   "cell_type": "code",
   "execution_count": 79,
   "id": "5d9e48b7-739b-4df2-8b53-1785a48955e0",
   "metadata": {},
   "outputs": [],
   "source": [
    "customers['RegistrationDate']=pd.to_datetime(customers['RegistrationDate'],format='%d-%m-%Y')"
   ]
  },
  {
   "cell_type": "code",
   "execution_count": 80,
   "id": "4916f35d-9823-4fcc-bbab-8278c86a7ea5",
   "metadata": {},
   "outputs": [
    {
     "data": {
      "text/plain": [
       "Customer_id         string[python]\n",
       "Name                string[python]\n",
       "Age                          int64\n",
       "Gender              string[python]\n",
       "Email               string[python]\n",
       "City                string[python]\n",
       "State               string[python]\n",
       "IncomeLevel         string[python]\n",
       "MaritalStatus       string[python]\n",
       "RegistrationDate    datetime64[ns]\n",
       "dtype: object"
      ]
     },
     "execution_count": 80,
     "metadata": {},
     "output_type": "execute_result"
    }
   ],
   "source": [
    "customers.dtypes"
   ]
  },
  {
   "cell_type": "code",
   "execution_count": 81,
   "id": "a3cc34f5-ebb3-4e83-8374-c5fe197f5843",
   "metadata": {},
   "outputs": [],
   "source": [
    "payments['PaymentDate']=pd.to_datetime(payments['PaymentDate'],format='%d-%m-%Y')"
   ]
  },
  {
   "cell_type": "code",
   "execution_count": 82,
   "id": "6c9a21fa-7587-4466-bfad-f2f8e4ff201f",
   "metadata": {},
   "outputs": [
    {
     "data": {
      "text/plain": [
       "Payment_id       string[python]\n",
       "Policy_id        string[python]\n",
       "Customer_id      string[python]\n",
       "PaymentMethod    string[python]\n",
       "PaymentDate      datetime64[ns]\n",
       "PaymentStatus    string[python]\n",
       "PaymentAmount             int64\n",
       "dtype: object"
      ]
     },
     "execution_count": 82,
     "metadata": {},
     "output_type": "execute_result"
    }
   ],
   "source": [
    "payments.dtypes"
   ]
  },
  {
   "cell_type": "code",
   "execution_count": 83,
   "id": "39ba8ab7-346a-491f-8d86-3f1c5a4b542a",
   "metadata": {},
   "outputs": [
    {
     "data": {
      "text/html": [
       "<div>\n",
       "<style scoped>\n",
       "    .dataframe tbody tr th:only-of-type {\n",
       "        vertical-align: middle;\n",
       "    }\n",
       "\n",
       "    .dataframe tbody tr th {\n",
       "        vertical-align: top;\n",
       "    }\n",
       "\n",
       "    .dataframe thead th {\n",
       "        text-align: right;\n",
       "    }\n",
       "</style>\n",
       "<table border=\"1\" class=\"dataframe\">\n",
       "  <thead>\n",
       "    <tr style=\"text-align: right;\">\n",
       "      <th></th>\n",
       "      <th>Claim_id</th>\n",
       "      <th>Policy_id</th>\n",
       "      <th>Customer_id</th>\n",
       "      <th>DateofClaim</th>\n",
       "      <th>ClaimAmount</th>\n",
       "      <th>ClaimStatus</th>\n",
       "      <th>ClaimReason</th>\n",
       "      <th>SettlementDate</th>\n",
       "    </tr>\n",
       "  </thead>\n",
       "  <tbody>\n",
       "    <tr>\n",
       "      <th>0</th>\n",
       "      <td>CL1066</td>\n",
       "      <td>P3624</td>\n",
       "      <td>C1820</td>\n",
       "      <td>25-08-2022</td>\n",
       "      <td>68019</td>\n",
       "      <td>Rejected</td>\n",
       "      <td>Damage</td>\n",
       "      <td>06-09-2022</td>\n",
       "    </tr>\n",
       "    <tr>\n",
       "      <th>1</th>\n",
       "      <td>CL1073</td>\n",
       "      <td>P3667</td>\n",
       "      <td>C1840</td>\n",
       "      <td>11-10-2022</td>\n",
       "      <td>32707</td>\n",
       "      <td>Rejected</td>\n",
       "      <td>Theft</td>\n",
       "      <td>28-10-2022</td>\n",
       "    </tr>\n",
       "    <tr>\n",
       "      <th>2</th>\n",
       "      <td>CL853</td>\n",
       "      <td>P2918</td>\n",
       "      <td>C1452</td>\n",
       "      <td>15-11-2022</td>\n",
       "      <td>22383</td>\n",
       "      <td>Pending</td>\n",
       "      <td>Loss</td>\n",
       "      <td>22-01-2023</td>\n",
       "    </tr>\n",
       "    <tr>\n",
       "      <th>3</th>\n",
       "      <td>CL119</td>\n",
       "      <td>P420</td>\n",
       "      <td>C207</td>\n",
       "      <td>26-11-2022</td>\n",
       "      <td>33386</td>\n",
       "      <td>Pending</td>\n",
       "      <td>Fire</td>\n",
       "      <td>17-12-2022</td>\n",
       "    </tr>\n",
       "    <tr>\n",
       "      <th>4</th>\n",
       "      <td>CL738</td>\n",
       "      <td>P2513</td>\n",
       "      <td>C1247</td>\n",
       "      <td>28-11-2022</td>\n",
       "      <td>53143</td>\n",
       "      <td>Pending</td>\n",
       "      <td>Flood</td>\n",
       "      <td>11-01-2023</td>\n",
       "    </tr>\n",
       "  </tbody>\n",
       "</table>\n",
       "</div>"
      ],
      "text/plain": [
       "  Claim_id Policy_id Customer_id DateofClaim  ClaimAmount ClaimStatus  \\\n",
       "0   CL1066     P3624       C1820  25-08-2022        68019    Rejected   \n",
       "1   CL1073     P3667       C1840  11-10-2022        32707    Rejected   \n",
       "2    CL853     P2918       C1452  15-11-2022        22383     Pending   \n",
       "3    CL119      P420        C207  26-11-2022        33386     Pending   \n",
       "4    CL738     P2513       C1247  28-11-2022        53143     Pending   \n",
       "\n",
       "  ClaimReason SettlementDate  \n",
       "0      Damage     06-09-2022  \n",
       "1       Theft     28-10-2022  \n",
       "2        Loss     22-01-2023  \n",
       "3        Fire     17-12-2022  \n",
       "4       Flood     11-01-2023  "
      ]
     },
     "execution_count": 83,
     "metadata": {},
     "output_type": "execute_result"
    }
   ],
   "source": [
    "claims.head()"
   ]
  },
  {
   "cell_type": "code",
   "execution_count": 84,
   "id": "87aa4627-0c27-4878-9c8f-c8a0c12ab3a2",
   "metadata": {},
   "outputs": [],
   "source": [
    "cols_to_convert = ['Claim_id','Policy_id','Customer_id','ClaimStatus','ClaimReason']\n",
    "claims[cols_to_convert] = claims[cols_to_convert].astype('string')"
   ]
  },
  {
   "cell_type": "code",
   "execution_count": 85,
   "id": "ba9b6203-a0ed-4c60-aa43-745224bea82b",
   "metadata": {},
   "outputs": [],
   "source": [
    "claims['DateofClaim']=pd.to_datetime(claims['DateofClaim'],format='%d-%m-%Y')\n",
    "claims['SettlementDate']=pd.to_datetime(claims['SettlementDate'],format='%d-%m-%Y')"
   ]
  },
  {
   "cell_type": "code",
   "execution_count": 86,
   "id": "b3368247-a068-4431-84f3-a6c1d474d1c2",
   "metadata": {},
   "outputs": [
    {
     "data": {
      "text/plain": [
       "Claim_id          string[python]\n",
       "Policy_id         string[python]\n",
       "Customer_id       string[python]\n",
       "DateofClaim       datetime64[ns]\n",
       "ClaimAmount                int64\n",
       "ClaimStatus       string[python]\n",
       "ClaimReason       string[python]\n",
       "SettlementDate    datetime64[ns]\n",
       "dtype: object"
      ]
     },
     "execution_count": 86,
     "metadata": {},
     "output_type": "execute_result"
    }
   ],
   "source": [
    "claims.dtypes"
   ]
  },
  {
   "cell_type": "code",
   "execution_count": 87,
   "id": "2272086c-df07-4dce-9694-05e4c728e1ce",
   "metadata": {},
   "outputs": [
    {
     "data": {
      "text/plain": [
       "Policy_id          object\n",
       "Customer_id        object\n",
       "PolicyType         object\n",
       "PolicyStartDate    object\n",
       "PolicyEndDate      object\n",
       "PremiumAmount       int64\n",
       "PolicyStatus       object\n",
       "dtype: object"
      ]
     },
     "execution_count": 87,
     "metadata": {},
     "output_type": "execute_result"
    }
   ],
   "source": [
    "policies.dtypes"
   ]
  },
  {
   "cell_type": "code",
   "execution_count": 88,
   "id": "7e1e0303-c801-4519-876e-3817c46b1623",
   "metadata": {},
   "outputs": [
    {
     "data": {
      "text/html": [
       "<div>\n",
       "<style scoped>\n",
       "    .dataframe tbody tr th:only-of-type {\n",
       "        vertical-align: middle;\n",
       "    }\n",
       "\n",
       "    .dataframe tbody tr th {\n",
       "        vertical-align: top;\n",
       "    }\n",
       "\n",
       "    .dataframe thead th {\n",
       "        text-align: right;\n",
       "    }\n",
       "</style>\n",
       "<table border=\"1\" class=\"dataframe\">\n",
       "  <thead>\n",
       "    <tr style=\"text-align: right;\">\n",
       "      <th></th>\n",
       "      <th>Policy_id</th>\n",
       "      <th>Customer_id</th>\n",
       "      <th>PolicyType</th>\n",
       "      <th>PolicyStartDate</th>\n",
       "      <th>PolicyEndDate</th>\n",
       "      <th>PremiumAmount</th>\n",
       "      <th>PolicyStatus</th>\n",
       "    </tr>\n",
       "  </thead>\n",
       "  <tbody>\n",
       "    <tr>\n",
       "      <th>0</th>\n",
       "      <td>P2017</td>\n",
       "      <td>C995</td>\n",
       "      <td>Vehicle</td>\n",
       "      <td>18-05-2025</td>\n",
       "      <td>29-05-2027</td>\n",
       "      <td>27587</td>\n",
       "      <td>Expired</td>\n",
       "    </tr>\n",
       "    <tr>\n",
       "      <th>1</th>\n",
       "      <td>P2016</td>\n",
       "      <td>C995</td>\n",
       "      <td>Travel</td>\n",
       "      <td>19-05-2025</td>\n",
       "      <td>14-03-2026</td>\n",
       "      <td>37397</td>\n",
       "      <td>Expired</td>\n",
       "    </tr>\n",
       "    <tr>\n",
       "      <th>2</th>\n",
       "      <td>P2013</td>\n",
       "      <td>C994</td>\n",
       "      <td>Home</td>\n",
       "      <td>16-08-2024</td>\n",
       "      <td>26-03-2025</td>\n",
       "      <td>7879</td>\n",
       "      <td>Active</td>\n",
       "    </tr>\n",
       "    <tr>\n",
       "      <th>3</th>\n",
       "      <td>P2015</td>\n",
       "      <td>C994</td>\n",
       "      <td>Life</td>\n",
       "      <td>13-09-2024</td>\n",
       "      <td>08-04-2027</td>\n",
       "      <td>35149</td>\n",
       "      <td>Expired</td>\n",
       "    </tr>\n",
       "    <tr>\n",
       "      <th>4</th>\n",
       "      <td>P2014</td>\n",
       "      <td>C994</td>\n",
       "      <td>Home</td>\n",
       "      <td>16-12-2024</td>\n",
       "      <td>01-03-2026</td>\n",
       "      <td>34238</td>\n",
       "      <td>Active</td>\n",
       "    </tr>\n",
       "  </tbody>\n",
       "</table>\n",
       "</div>"
      ],
      "text/plain": [
       "  Policy_id Customer_id PolicyType PolicyStartDate PolicyEndDate  \\\n",
       "0     P2017        C995    Vehicle      18-05-2025    29-05-2027   \n",
       "1     P2016        C995     Travel      19-05-2025    14-03-2026   \n",
       "2     P2013        C994       Home      16-08-2024    26-03-2025   \n",
       "3     P2015        C994       Life      13-09-2024    08-04-2027   \n",
       "4     P2014        C994       Home      16-12-2024    01-03-2026   \n",
       "\n",
       "   PremiumAmount PolicyStatus  \n",
       "0          27587      Expired  \n",
       "1          37397      Expired  \n",
       "2           7879       Active  \n",
       "3          35149      Expired  \n",
       "4          34238       Active  "
      ]
     },
     "execution_count": 88,
     "metadata": {},
     "output_type": "execute_result"
    }
   ],
   "source": [
    "policies.head()"
   ]
  },
  {
   "cell_type": "code",
   "execution_count": 89,
   "id": "0f4bfd00-4734-4559-8779-46f831188c8d",
   "metadata": {},
   "outputs": [],
   "source": [
    "cols_to_convert = ['Policy_id','Customer_id','PolicyType','PolicyStatus']\n",
    "policies[cols_to_convert] = policies[cols_to_convert].astype('string')"
   ]
  },
  {
   "cell_type": "code",
   "execution_count": 90,
   "id": "a899f303-aed4-478d-b7b0-8854621b5a2a",
   "metadata": {},
   "outputs": [],
   "source": [
    "policies['PolicyStartDate']=pd.to_datetime(policies['PolicyStartDate'],format='%d-%m-%Y')\n",
    "policies['PolicyEndDate']=pd.to_datetime(policies['PolicyEndDate'],format='%d-%m-%Y')"
   ]
  },
  {
   "cell_type": "code",
   "execution_count": 91,
   "id": "0f11695c-3e07-463f-b6c4-73c3e21400da",
   "metadata": {},
   "outputs": [
    {
     "data": {
      "text/plain": [
       "Policy_id          string[python]\n",
       "Customer_id        string[python]\n",
       "PolicyType         string[python]\n",
       "PolicyStartDate    datetime64[ns]\n",
       "PolicyEndDate      datetime64[ns]\n",
       "PremiumAmount               int64\n",
       "PolicyStatus       string[python]\n",
       "dtype: object"
      ]
     },
     "execution_count": 91,
     "metadata": {},
     "output_type": "execute_result"
    }
   ],
   "source": [
    "policies.dtypes"
   ]
  },
  {
   "cell_type": "code",
   "execution_count": 92,
   "id": "ee0ef793-3f40-4d42-aa55-b291c7d625aa",
   "metadata": {},
   "outputs": [
    {
     "data": {
      "text/plain": [
       "(4932, 7)"
      ]
     },
     "execution_count": 92,
     "metadata": {},
     "output_type": "execute_result"
    }
   ],
   "source": [
    "policies.shape"
   ]
  },
  {
   "cell_type": "code",
   "execution_count": 93,
   "id": "c3a2dad6-d213-4143-b092-ebfab30229c4",
   "metadata": {},
   "outputs": [
    {
     "data": {
      "text/html": [
       "<div>\n",
       "<style scoped>\n",
       "    .dataframe tbody tr th:only-of-type {\n",
       "        vertical-align: middle;\n",
       "    }\n",
       "\n",
       "    .dataframe tbody tr th {\n",
       "        vertical-align: top;\n",
       "    }\n",
       "\n",
       "    .dataframe thead th {\n",
       "        text-align: right;\n",
       "    }\n",
       "</style>\n",
       "<table border=\"1\" class=\"dataframe\">\n",
       "  <thead>\n",
       "    <tr style=\"text-align: right;\">\n",
       "      <th></th>\n",
       "      <th>Customer_id</th>\n",
       "      <th>Name</th>\n",
       "      <th>Age</th>\n",
       "      <th>Gender</th>\n",
       "      <th>Email</th>\n",
       "      <th>City</th>\n",
       "      <th>State</th>\n",
       "      <th>IncomeLevel</th>\n",
       "      <th>MaritalStatus</th>\n",
       "      <th>RegistrationDate</th>\n",
       "    </tr>\n",
       "  </thead>\n",
       "  <tbody>\n",
       "    <tr>\n",
       "      <th>951</th>\n",
       "      <td>C952</td>\n",
       "      <td>Mahika Kashyap</td>\n",
       "      <td>70</td>\n",
       "      <td>Male</td>\n",
       "      <td>golearadhya@sama.info</td>\n",
       "      <td>Tadipatri</td>\n",
       "      <td>Haryana</td>\n",
       "      <td>High</td>\n",
       "      <td>Married</td>\n",
       "      <td>2023-04-17</td>\n",
       "    </tr>\n",
       "    <tr>\n",
       "      <th>955</th>\n",
       "      <td>C956</td>\n",
       "      <td>Heer Rau</td>\n",
       "      <td>70</td>\n",
       "      <td>Male</td>\n",
       "      <td>abuch@bhalla.biz</td>\n",
       "      <td>Gangtok</td>\n",
       "      <td>Kerala</td>\n",
       "      <td>Medium</td>\n",
       "      <td>Single</td>\n",
       "      <td>2024-02-07</td>\n",
       "    </tr>\n",
       "    <tr>\n",
       "      <th>2451</th>\n",
       "      <td>C2452</td>\n",
       "      <td>Pihu Sharaf</td>\n",
       "      <td>70</td>\n",
       "      <td>Other</td>\n",
       "      <td>routshaan@hotmail.com</td>\n",
       "      <td>Katihar</td>\n",
       "      <td>Chhattisgarh</td>\n",
       "      <td>Medium</td>\n",
       "      <td>Married</td>\n",
       "      <td>2022-10-15</td>\n",
       "    </tr>\n",
       "    <tr>\n",
       "      <th>2444</th>\n",
       "      <td>C2445</td>\n",
       "      <td>Damini Upadhyay</td>\n",
       "      <td>70</td>\n",
       "      <td>Female</td>\n",
       "      <td>madandivyansh@yahoo.com</td>\n",
       "      <td>Gudivada</td>\n",
       "      <td>Goa</td>\n",
       "      <td>High</td>\n",
       "      <td>Married</td>\n",
       "      <td>2023-01-11</td>\n",
       "    </tr>\n",
       "    <tr>\n",
       "      <th>887</th>\n",
       "      <td>C888</td>\n",
       "      <td>Charvi Sunder</td>\n",
       "      <td>70</td>\n",
       "      <td>Female</td>\n",
       "      <td>farhansrivastava@bahri.com</td>\n",
       "      <td>Sonipat</td>\n",
       "      <td>Himachal Pradesh</td>\n",
       "      <td>High</td>\n",
       "      <td>Married</td>\n",
       "      <td>2023-08-23</td>\n",
       "    </tr>\n",
       "    <tr>\n",
       "      <th>...</th>\n",
       "      <td>...</td>\n",
       "      <td>...</td>\n",
       "      <td>...</td>\n",
       "      <td>...</td>\n",
       "      <td>...</td>\n",
       "      <td>...</td>\n",
       "      <td>...</td>\n",
       "      <td>...</td>\n",
       "      <td>...</td>\n",
       "      <td>...</td>\n",
       "    </tr>\n",
       "    <tr>\n",
       "      <th>1452</th>\n",
       "      <td>C1453</td>\n",
       "      <td>Kimaya Mahal</td>\n",
       "      <td>18</td>\n",
       "      <td>Other</td>\n",
       "      <td>nitya54@kari.com</td>\n",
       "      <td>Bhimavaram</td>\n",
       "      <td>Jharkhand</td>\n",
       "      <td>High</td>\n",
       "      <td>Divorced</td>\n",
       "      <td>2022-11-19</td>\n",
       "    </tr>\n",
       "    <tr>\n",
       "      <th>1923</th>\n",
       "      <td>C1943</td>\n",
       "      <td>Baiju Shere</td>\n",
       "      <td>18</td>\n",
       "      <td>Male</td>\n",
       "      <td>kiaanbiswas@dubey.org</td>\n",
       "      <td>Haridwar</td>\n",
       "      <td>Madhya Pradesh</td>\n",
       "      <td>Low</td>\n",
       "      <td>Married</td>\n",
       "      <td>2025-04-26</td>\n",
       "    </tr>\n",
       "    <tr>\n",
       "      <th>1481</th>\n",
       "      <td>C1482</td>\n",
       "      <td>Divyansh Gade</td>\n",
       "      <td>18</td>\n",
       "      <td>Female</td>\n",
       "      <td>darshit69@yahoo.com</td>\n",
       "      <td>Udaipur</td>\n",
       "      <td>Telangana</td>\n",
       "      <td>Low</td>\n",
       "      <td>Single</td>\n",
       "      <td>2022-08-26</td>\n",
       "    </tr>\n",
       "    <tr>\n",
       "      <th>49</th>\n",
       "      <td>C50</td>\n",
       "      <td>Rania Warrior</td>\n",
       "      <td>18</td>\n",
       "      <td>Other</td>\n",
       "      <td>lrana@gmail.com</td>\n",
       "      <td>Tiruchirappalli</td>\n",
       "      <td>Manipur</td>\n",
       "      <td>Medium</td>\n",
       "      <td>Married</td>\n",
       "      <td>2023-08-21</td>\n",
       "    </tr>\n",
       "    <tr>\n",
       "      <th>1721</th>\n",
       "      <td>C1722</td>\n",
       "      <td>Myra Srinivas</td>\n",
       "      <td>18</td>\n",
       "      <td>Male</td>\n",
       "      <td>cgrover@gmail.com</td>\n",
       "      <td>Bardhaman</td>\n",
       "      <td>Karnataka</td>\n",
       "      <td>Medium</td>\n",
       "      <td>Divorced</td>\n",
       "      <td>2024-08-21</td>\n",
       "    </tr>\n",
       "  </tbody>\n",
       "</table>\n",
       "<p>2500 rows × 10 columns</p>\n",
       "</div>"
      ],
      "text/plain": [
       "     Customer_id             Name  Age  Gender                       Email  \\\n",
       "951         C952   Mahika Kashyap   70    Male       golearadhya@sama.info   \n",
       "955         C956         Heer Rau   70    Male            abuch@bhalla.biz   \n",
       "2451       C2452      Pihu Sharaf   70   Other       routshaan@hotmail.com   \n",
       "2444       C2445  Damini Upadhyay   70  Female     madandivyansh@yahoo.com   \n",
       "887         C888    Charvi Sunder   70  Female  farhansrivastava@bahri.com   \n",
       "...          ...              ...  ...     ...                         ...   \n",
       "1452       C1453     Kimaya Mahal   18   Other            nitya54@kari.com   \n",
       "1923       C1943      Baiju Shere   18    Male       kiaanbiswas@dubey.org   \n",
       "1481       C1482    Divyansh Gade   18  Female         darshit69@yahoo.com   \n",
       "49           C50    Rania Warrior   18   Other             lrana@gmail.com   \n",
       "1721       C1722    Myra Srinivas   18    Male           cgrover@gmail.com   \n",
       "\n",
       "                 City             State IncomeLevel MaritalStatus  \\\n",
       "951         Tadipatri           Haryana        High       Married   \n",
       "955           Gangtok            Kerala      Medium        Single   \n",
       "2451          Katihar      Chhattisgarh      Medium       Married   \n",
       "2444         Gudivada               Goa        High       Married   \n",
       "887           Sonipat  Himachal Pradesh        High       Married   \n",
       "...               ...               ...         ...           ...   \n",
       "1452       Bhimavaram         Jharkhand        High      Divorced   \n",
       "1923         Haridwar    Madhya Pradesh         Low       Married   \n",
       "1481          Udaipur         Telangana         Low        Single   \n",
       "49    Tiruchirappalli           Manipur      Medium       Married   \n",
       "1721        Bardhaman         Karnataka      Medium      Divorced   \n",
       "\n",
       "     RegistrationDate  \n",
       "951        2023-04-17  \n",
       "955        2024-02-07  \n",
       "2451       2022-10-15  \n",
       "2444       2023-01-11  \n",
       "887        2023-08-23  \n",
       "...               ...  \n",
       "1452       2022-11-19  \n",
       "1923       2025-04-26  \n",
       "1481       2022-08-26  \n",
       "49         2023-08-21  \n",
       "1721       2024-08-21  \n",
       "\n",
       "[2500 rows x 10 columns]"
      ]
     },
     "execution_count": 93,
     "metadata": {},
     "output_type": "execute_result"
    }
   ],
   "source": [
    "customers.sort_values(by= 'Age',ascending=False)"
   ]
  },
  {
   "cell_type": "code",
   "execution_count": 94,
   "id": "afd02fa7-7def-4d45-808b-d12980814018",
   "metadata": {},
   "outputs": [
    {
     "name": "stdout",
     "output_type": "stream",
     "text": [
      "    Customer_id               Name   Age Gender  \\\n",
      "0            C1        Farhan Tank  58.0   Male   \n",
      "1            C2  Onkar Rajagopalan  35.0   Male   \n",
      "2            C3    Sahil Kuruvilla  65.0   Male   \n",
      "3            C4         Vidur Gera  52.0   Male   \n",
      "4            C5       Alia Rastogi  20.0   Male   \n",
      "..          ...                ...   ...    ...   \n",
      "609       C1214               <NA>   NaN   <NA>   \n",
      "610       C1887               <NA>   NaN   <NA>   \n",
      "611        C701               <NA>   NaN   <NA>   \n",
      "612       C1144               <NA>   NaN   <NA>   \n",
      "613       C1977               <NA>   NaN   <NA>   \n",
      "\n",
      "                              Email         City              State  \\\n",
      "0    gangulyelakshi@chakraborty.com   Chandrapur            Gujarat   \n",
      "1                ritvik11@gmail.com        Delhi        West Bengal   \n",
      "2          kalekavya@sodhi-kata.com      Saharsa  Arunachal Pradesh   \n",
      "3               samarth02@yahoo.com      Dhanbad  Arunachal Pradesh   \n",
      "4                   ryan86@goda.com  Pudukkottai                Goa   \n",
      "..                              ...          ...                ...   \n",
      "609                            <NA>         <NA>               <NA>   \n",
      "610                            <NA>         <NA>               <NA>   \n",
      "611                            <NA>         <NA>               <NA>   \n",
      "612                            <NA>         <NA>               <NA>   \n",
      "613                            <NA>         <NA>               <NA>   \n",
      "\n",
      "    IncomeLevel MaritalStatus RegistrationDate Claim_id Policy_id DateofClaim  \\\n",
      "0           Low      Divorced       2024-10-07     <NA>      <NA>         NaT   \n",
      "1           Low        Single       2023-08-22     <NA>      <NA>         NaT   \n",
      "2          High      Divorced       2023-06-12     <NA>      <NA>         NaT   \n",
      "3          High       Married       2023-05-29     <NA>      <NA>         NaT   \n",
      "4           Low        Single       2023-08-30     <NA>      <NA>         NaT   \n",
      "..          ...           ...              ...      ...       ...         ...   \n",
      "609        <NA>          <NA>              NaT    CL711     P2450  2025-05-19   \n",
      "610        <NA>          <NA>              NaT   CL1107     P3763  2025-05-19   \n",
      "611        <NA>          <NA>              NaT    CL424     P1430  2025-05-20   \n",
      "612        <NA>          <NA>              NaT    CL677     P2319  2025-05-20   \n",
      "613        <NA>          <NA>              NaT   CL1149     P3931  2025-05-20   \n",
      "\n",
      "     ClaimAmount ClaimStatus ClaimReason SettlementDate  \n",
      "0            NaN        <NA>        <NA>            NaT  \n",
      "1            NaN        <NA>        <NA>            NaT  \n",
      "2            NaN        <NA>        <NA>            NaT  \n",
      "3            NaN        <NA>        <NA>            NaT  \n",
      "4            NaN        <NA>        <NA>            NaT  \n",
      "..           ...         ...         ...            ...  \n",
      "609      45458.0    Approved       Flood     2025-08-09  \n",
      "610      66889.0     Pending      Damage     2025-07-20  \n",
      "611       7397.0     Pending        Loss     2025-06-27  \n",
      "612      74455.0    Approved        Fire     2025-06-21  \n",
      "613      51048.0    Approved      Damage     2025-06-15  \n",
      "\n",
      "[3114 rows x 17 columns]\n"
     ]
    }
   ],
   "source": [
    "a= pd.concat([customers,claims])\n",
    "print(a)"
   ]
  },
  {
   "cell_type": "code",
   "execution_count": 95,
   "id": "db479fd0-6c0b-41f4-be8b-b0d7b56ca4f2",
   "metadata": {},
   "outputs": [
    {
     "data": {
      "text/html": [
       "<div>\n",
       "<style scoped>\n",
       "    .dataframe tbody tr th:only-of-type {\n",
       "        vertical-align: middle;\n",
       "    }\n",
       "\n",
       "    .dataframe tbody tr th {\n",
       "        vertical-align: top;\n",
       "    }\n",
       "\n",
       "    .dataframe thead th {\n",
       "        text-align: right;\n",
       "    }\n",
       "</style>\n",
       "<table border=\"1\" class=\"dataframe\">\n",
       "  <thead>\n",
       "    <tr style=\"text-align: right;\">\n",
       "      <th></th>\n",
       "      <th>Customer_id</th>\n",
       "      <th>Name</th>\n",
       "      <th>Age</th>\n",
       "      <th>Gender</th>\n",
       "      <th>Email</th>\n",
       "      <th>City</th>\n",
       "      <th>State</th>\n",
       "      <th>IncomeLevel</th>\n",
       "      <th>MaritalStatus</th>\n",
       "      <th>RegistrationDate</th>\n",
       "    </tr>\n",
       "  </thead>\n",
       "  <tbody>\n",
       "    <tr>\n",
       "      <th>0</th>\n",
       "      <td>C1</td>\n",
       "      <td>Farhan Tank</td>\n",
       "      <td>58</td>\n",
       "      <td>Male</td>\n",
       "      <td>gangulyelakshi@chakraborty.com</td>\n",
       "      <td>Chandrapur</td>\n",
       "      <td>Gujarat</td>\n",
       "      <td>Low</td>\n",
       "      <td>Divorced</td>\n",
       "      <td>2024-10-07</td>\n",
       "    </tr>\n",
       "    <tr>\n",
       "      <th>1</th>\n",
       "      <td>C2</td>\n",
       "      <td>Onkar Rajagopalan</td>\n",
       "      <td>35</td>\n",
       "      <td>Male</td>\n",
       "      <td>ritvik11@gmail.com</td>\n",
       "      <td>Delhi</td>\n",
       "      <td>West Bengal</td>\n",
       "      <td>Low</td>\n",
       "      <td>Single</td>\n",
       "      <td>2023-08-22</td>\n",
       "    </tr>\n",
       "    <tr>\n",
       "      <th>2</th>\n",
       "      <td>C3</td>\n",
       "      <td>Sahil Kuruvilla</td>\n",
       "      <td>65</td>\n",
       "      <td>Male</td>\n",
       "      <td>kalekavya@sodhi-kata.com</td>\n",
       "      <td>Saharsa</td>\n",
       "      <td>Arunachal Pradesh</td>\n",
       "      <td>High</td>\n",
       "      <td>Divorced</td>\n",
       "      <td>2023-06-12</td>\n",
       "    </tr>\n",
       "    <tr>\n",
       "      <th>3</th>\n",
       "      <td>C4</td>\n",
       "      <td>Vidur Gera</td>\n",
       "      <td>52</td>\n",
       "      <td>Male</td>\n",
       "      <td>samarth02@yahoo.com</td>\n",
       "      <td>Dhanbad</td>\n",
       "      <td>Arunachal Pradesh</td>\n",
       "      <td>High</td>\n",
       "      <td>Married</td>\n",
       "      <td>2023-05-29</td>\n",
       "    </tr>\n",
       "    <tr>\n",
       "      <th>4</th>\n",
       "      <td>C5</td>\n",
       "      <td>Alia Rastogi</td>\n",
       "      <td>20</td>\n",
       "      <td>Male</td>\n",
       "      <td>ryan86@goda.com</td>\n",
       "      <td>Pudukkottai</td>\n",
       "      <td>Goa</td>\n",
       "      <td>Low</td>\n",
       "      <td>Single</td>\n",
       "      <td>2023-08-30</td>\n",
       "    </tr>\n",
       "  </tbody>\n",
       "</table>\n",
       "</div>"
      ],
      "text/plain": [
       "  Customer_id               Name  Age Gender                           Email  \\\n",
       "0          C1        Farhan Tank   58   Male  gangulyelakshi@chakraborty.com   \n",
       "1          C2  Onkar Rajagopalan   35   Male              ritvik11@gmail.com   \n",
       "2          C3    Sahil Kuruvilla   65   Male        kalekavya@sodhi-kata.com   \n",
       "3          C4         Vidur Gera   52   Male             samarth02@yahoo.com   \n",
       "4          C5       Alia Rastogi   20   Male                 ryan86@goda.com   \n",
       "\n",
       "          City              State IncomeLevel MaritalStatus RegistrationDate  \n",
       "0   Chandrapur            Gujarat         Low      Divorced       2024-10-07  \n",
       "1        Delhi        West Bengal         Low        Single       2023-08-22  \n",
       "2      Saharsa  Arunachal Pradesh        High      Divorced       2023-06-12  \n",
       "3      Dhanbad  Arunachal Pradesh        High       Married       2023-05-29  \n",
       "4  Pudukkottai                Goa         Low        Single       2023-08-30  "
      ]
     },
     "execution_count": 95,
     "metadata": {},
     "output_type": "execute_result"
    }
   ],
   "source": [
    "customers.head()"
   ]
  },
  {
   "cell_type": "code",
   "execution_count": 96,
   "id": "88b856f2-9c79-4293-8916-67e0421a5be1",
   "metadata": {},
   "outputs": [
    {
     "data": {
      "text/html": [
       "<div>\n",
       "<style scoped>\n",
       "    .dataframe tbody tr th:only-of-type {\n",
       "        vertical-align: middle;\n",
       "    }\n",
       "\n",
       "    .dataframe tbody tr th {\n",
       "        vertical-align: top;\n",
       "    }\n",
       "\n",
       "    .dataframe thead th {\n",
       "        text-align: right;\n",
       "    }\n",
       "</style>\n",
       "<table border=\"1\" class=\"dataframe\">\n",
       "  <thead>\n",
       "    <tr style=\"text-align: right;\">\n",
       "      <th></th>\n",
       "      <th>Claim_id</th>\n",
       "      <th>Policy_id</th>\n",
       "      <th>Customer_id</th>\n",
       "      <th>DateofClaim</th>\n",
       "      <th>ClaimAmount</th>\n",
       "      <th>ClaimStatus</th>\n",
       "      <th>ClaimReason</th>\n",
       "      <th>SettlementDate</th>\n",
       "    </tr>\n",
       "  </thead>\n",
       "  <tbody>\n",
       "    <tr>\n",
       "      <th>0</th>\n",
       "      <td>CL1066</td>\n",
       "      <td>P3624</td>\n",
       "      <td>C1820</td>\n",
       "      <td>2022-08-25</td>\n",
       "      <td>68019</td>\n",
       "      <td>Rejected</td>\n",
       "      <td>Damage</td>\n",
       "      <td>2022-09-06</td>\n",
       "    </tr>\n",
       "    <tr>\n",
       "      <th>1</th>\n",
       "      <td>CL1073</td>\n",
       "      <td>P3667</td>\n",
       "      <td>C1840</td>\n",
       "      <td>2022-10-11</td>\n",
       "      <td>32707</td>\n",
       "      <td>Rejected</td>\n",
       "      <td>Theft</td>\n",
       "      <td>2022-10-28</td>\n",
       "    </tr>\n",
       "    <tr>\n",
       "      <th>2</th>\n",
       "      <td>CL853</td>\n",
       "      <td>P2918</td>\n",
       "      <td>C1452</td>\n",
       "      <td>2022-11-15</td>\n",
       "      <td>22383</td>\n",
       "      <td>Pending</td>\n",
       "      <td>Loss</td>\n",
       "      <td>2023-01-22</td>\n",
       "    </tr>\n",
       "    <tr>\n",
       "      <th>3</th>\n",
       "      <td>CL119</td>\n",
       "      <td>P420</td>\n",
       "      <td>C207</td>\n",
       "      <td>2022-11-26</td>\n",
       "      <td>33386</td>\n",
       "      <td>Pending</td>\n",
       "      <td>Fire</td>\n",
       "      <td>2022-12-17</td>\n",
       "    </tr>\n",
       "    <tr>\n",
       "      <th>4</th>\n",
       "      <td>CL738</td>\n",
       "      <td>P2513</td>\n",
       "      <td>C1247</td>\n",
       "      <td>2022-11-28</td>\n",
       "      <td>53143</td>\n",
       "      <td>Pending</td>\n",
       "      <td>Flood</td>\n",
       "      <td>2023-01-11</td>\n",
       "    </tr>\n",
       "  </tbody>\n",
       "</table>\n",
       "</div>"
      ],
      "text/plain": [
       "  Claim_id Policy_id Customer_id DateofClaim  ClaimAmount ClaimStatus  \\\n",
       "0   CL1066     P3624       C1820  2022-08-25        68019    Rejected   \n",
       "1   CL1073     P3667       C1840  2022-10-11        32707    Rejected   \n",
       "2    CL853     P2918       C1452  2022-11-15        22383     Pending   \n",
       "3    CL119      P420        C207  2022-11-26        33386     Pending   \n",
       "4    CL738     P2513       C1247  2022-11-28        53143     Pending   \n",
       "\n",
       "  ClaimReason SettlementDate  \n",
       "0      Damage     2022-09-06  \n",
       "1       Theft     2022-10-28  \n",
       "2        Loss     2023-01-22  \n",
       "3        Fire     2022-12-17  \n",
       "4       Flood     2023-01-11  "
      ]
     },
     "execution_count": 96,
     "metadata": {},
     "output_type": "execute_result"
    }
   ],
   "source": [
    "claims.head()"
   ]
  },
  {
   "cell_type": "code",
   "execution_count": 97,
   "id": "59fb3789-46a0-4374-bb46-09d171a5bb52",
   "metadata": {},
   "outputs": [
    {
     "name": "stdout",
     "output_type": "stream",
     "text": [
      "     Customer_id               Name  Age  Gender  \\\n",
      "0             C1        Farhan Tank   58    Male   \n",
      "1             C2  Onkar Rajagopalan   35    Male   \n",
      "2             C3    Sahil Kuruvilla   65    Male   \n",
      "3             C4         Vidur Gera   52    Male   \n",
      "4             C5       Alia Rastogi   20    Male   \n",
      "...          ...                ...  ...     ...   \n",
      "2540       C2496       Zain Chandra   35    Male   \n",
      "2541       C2497        Yasmin Bhat   65  Female   \n",
      "2542       C2498       Kartik Uppal   45    Male   \n",
      "2543       C2499          Rhea Wali   34   Other   \n",
      "2544       C2500     Samarth Bhatti   44   Other   \n",
      "\n",
      "                               Email           City              State  \\\n",
      "0     gangulyelakshi@chakraborty.com     Chandrapur            Gujarat   \n",
      "1                 ritvik11@gmail.com          Delhi        West Bengal   \n",
      "2           kalekavya@sodhi-kata.com        Saharsa  Arunachal Pradesh   \n",
      "3                samarth02@yahoo.com        Dhanbad  Arunachal Pradesh   \n",
      "4                    ryan86@goda.com    Pudukkottai                Goa   \n",
      "...                              ...            ...                ...   \n",
      "2540             sulezaina@yahoo.com         Mysore     Andhra Pradesh   \n",
      "2541          divyanshjani@kakar.com       Thrissur          Karnataka   \n",
      "2542     adahrastogi@samra-mand.info      Ghaziabad              Assam   \n",
      "2543          baradaaryahi@chana.org      Kharagpur           Nagaland   \n",
      "2544           cchauhan@krishnan.com  Visakhapatnam              Assam   \n",
      "\n",
      "     IncomeLevel MaritalStatus RegistrationDate Claim_id Policy_id  \\\n",
      "0            Low      Divorced       2024-10-07      CL1        P1   \n",
      "1            Low        Single       2023-08-22      CL2        P4   \n",
      "2           High      Divorced       2023-06-12     <NA>      <NA>   \n",
      "3           High       Married       2023-05-29     <NA>      <NA>   \n",
      "4            Low        Single       2023-08-30     <NA>      <NA>   \n",
      "...          ...           ...              ...      ...       ...   \n",
      "2540      Medium       Married       2023-11-22     <NA>      <NA>   \n",
      "2541      Medium      Divorced       2023-02-21   CL1418     P4925   \n",
      "2542         Low      Divorced       2023-02-20   CL1419     P4926   \n",
      "2543         Low       Married       2022-05-31     <NA>      <NA>   \n",
      "2544        High      Divorced       2023-11-13   CL1421     P4932   \n",
      "\n",
      "     DateofClaim  ClaimAmount ClaimStatus ClaimReason SettlementDate  \n",
      "0     2025-05-11      61204.0    Approved    Accident     2025-07-03  \n",
      "1     2024-10-25      98648.0     Pending      Injury     2024-11-01  \n",
      "2            NaT          NaN        <NA>        <NA>            NaT  \n",
      "3            NaT          NaN        <NA>        <NA>            NaT  \n",
      "4            NaT          NaN        <NA>        <NA>            NaT  \n",
      "...          ...          ...         ...         ...            ...  \n",
      "2540         NaT          NaN        <NA>        <NA>            NaT  \n",
      "2541  2024-09-09      41114.0    Rejected       Theft     2024-11-02  \n",
      "2542  2024-12-28      57859.0     Pending       Flood     2025-01-28  \n",
      "2543         NaT          NaN        <NA>        <NA>            NaT  \n",
      "2544  2025-03-09      96671.0    Rejected      Injury     2025-03-27  \n",
      "\n",
      "[2545 rows x 17 columns]\n"
     ]
    }
   ],
   "source": [
    "ab=pd.merge(customers,claims,how='left',on='Customer_id')\n",
    "print(ab)"
   ]
  },
  {
   "cell_type": "code",
   "execution_count": 98,
   "id": "adf893e3-2a1a-41dd-a2e5-a7b8c3e2530c",
   "metadata": {},
   "outputs": [
    {
     "data": {
      "text/html": [
       "<div>\n",
       "<style scoped>\n",
       "    .dataframe tbody tr th:only-of-type {\n",
       "        vertical-align: middle;\n",
       "    }\n",
       "\n",
       "    .dataframe tbody tr th {\n",
       "        vertical-align: top;\n",
       "    }\n",
       "\n",
       "    .dataframe thead th {\n",
       "        text-align: right;\n",
       "    }\n",
       "</style>\n",
       "<table border=\"1\" class=\"dataframe\">\n",
       "  <thead>\n",
       "    <tr style=\"text-align: right;\">\n",
       "      <th></th>\n",
       "      <th>Customer_id</th>\n",
       "      <th>Name</th>\n",
       "      <th>Age</th>\n",
       "      <th>Gender</th>\n",
       "      <th>Email</th>\n",
       "      <th>City</th>\n",
       "      <th>State</th>\n",
       "      <th>IncomeLevel</th>\n",
       "      <th>MaritalStatus</th>\n",
       "      <th>RegistrationDate</th>\n",
       "    </tr>\n",
       "  </thead>\n",
       "  <tbody>\n",
       "    <tr>\n",
       "      <th>0</th>\n",
       "      <td>C1</td>\n",
       "      <td>Farhan Tank</td>\n",
       "      <td>58</td>\n",
       "      <td>Male</td>\n",
       "      <td>gangulyelakshi@chakraborty.com</td>\n",
       "      <td>Chandrapur</td>\n",
       "      <td>Gujarat</td>\n",
       "      <td>Low</td>\n",
       "      <td>Divorced</td>\n",
       "      <td>2024-10-07</td>\n",
       "    </tr>\n",
       "    <tr>\n",
       "      <th>1</th>\n",
       "      <td>C2</td>\n",
       "      <td>Onkar Rajagopalan</td>\n",
       "      <td>35</td>\n",
       "      <td>Male</td>\n",
       "      <td>ritvik11@gmail.com</td>\n",
       "      <td>Delhi</td>\n",
       "      <td>West Bengal</td>\n",
       "      <td>Low</td>\n",
       "      <td>Single</td>\n",
       "      <td>2023-08-22</td>\n",
       "    </tr>\n",
       "    <tr>\n",
       "      <th>2</th>\n",
       "      <td>C3</td>\n",
       "      <td>Sahil Kuruvilla</td>\n",
       "      <td>65</td>\n",
       "      <td>Male</td>\n",
       "      <td>kalekavya@sodhi-kata.com</td>\n",
       "      <td>Saharsa</td>\n",
       "      <td>Arunachal Pradesh</td>\n",
       "      <td>High</td>\n",
       "      <td>Divorced</td>\n",
       "      <td>2023-06-12</td>\n",
       "    </tr>\n",
       "    <tr>\n",
       "      <th>3</th>\n",
       "      <td>C4</td>\n",
       "      <td>Vidur Gera</td>\n",
       "      <td>52</td>\n",
       "      <td>Male</td>\n",
       "      <td>samarth02@yahoo.com</td>\n",
       "      <td>Dhanbad</td>\n",
       "      <td>Arunachal Pradesh</td>\n",
       "      <td>High</td>\n",
       "      <td>Married</td>\n",
       "      <td>2023-05-29</td>\n",
       "    </tr>\n",
       "    <tr>\n",
       "      <th>4</th>\n",
       "      <td>C5</td>\n",
       "      <td>Alia Rastogi</td>\n",
       "      <td>20</td>\n",
       "      <td>Male</td>\n",
       "      <td>ryan86@goda.com</td>\n",
       "      <td>Pudukkottai</td>\n",
       "      <td>Goa</td>\n",
       "      <td>Low</td>\n",
       "      <td>Single</td>\n",
       "      <td>2023-08-30</td>\n",
       "    </tr>\n",
       "  </tbody>\n",
       "</table>\n",
       "</div>"
      ],
      "text/plain": [
       "  Customer_id               Name  Age Gender                           Email  \\\n",
       "0          C1        Farhan Tank   58   Male  gangulyelakshi@chakraborty.com   \n",
       "1          C2  Onkar Rajagopalan   35   Male              ritvik11@gmail.com   \n",
       "2          C3    Sahil Kuruvilla   65   Male        kalekavya@sodhi-kata.com   \n",
       "3          C4         Vidur Gera   52   Male             samarth02@yahoo.com   \n",
       "4          C5       Alia Rastogi   20   Male                 ryan86@goda.com   \n",
       "\n",
       "          City              State IncomeLevel MaritalStatus RegistrationDate  \n",
       "0   Chandrapur            Gujarat         Low      Divorced       2024-10-07  \n",
       "1        Delhi        West Bengal         Low        Single       2023-08-22  \n",
       "2      Saharsa  Arunachal Pradesh        High      Divorced       2023-06-12  \n",
       "3      Dhanbad  Arunachal Pradesh        High       Married       2023-05-29  \n",
       "4  Pudukkottai                Goa         Low        Single       2023-08-30  "
      ]
     },
     "execution_count": 98,
     "metadata": {},
     "output_type": "execute_result"
    }
   ],
   "source": [
    "customers.head()"
   ]
  },
  {
   "cell_type": "code",
   "execution_count": 99,
   "id": "3968a633-ff44-41b9-92ce-b017009d9df7",
   "metadata": {},
   "outputs": [
    {
     "data": {
      "text/plain": [
       "Gender\n",
       "Male      839\n",
       "Other     833\n",
       "Female    828\n",
       "Name: count, dtype: Int64"
      ]
     },
     "execution_count": 99,
     "metadata": {},
     "output_type": "execute_result"
    }
   ],
   "source": [
    "customers['Gender'].value_counts()"
   ]
  },
  {
   "cell_type": "code",
   "execution_count": 100,
   "id": "96d6392f-0b45-47fc-9a01-6bc16d287e5b",
   "metadata": {},
   "outputs": [
    {
     "data": {
      "text/plain": [
       "2500"
      ]
     },
     "execution_count": 100,
     "metadata": {},
     "output_type": "execute_result"
    }
   ],
   "source": [
    "customers['Customer_id'].nunique()"
   ]
  },
  {
   "cell_type": "code",
   "execution_count": 101,
   "id": "4cb38137-ec2f-4853-9148-2cf9725224b0",
   "metadata": {},
   "outputs": [
    {
     "data": {
      "text/plain": [
       "MaritalStatus\n",
       "Married     888\n",
       "Divorced    854\n",
       "Single      758\n",
       "Name: count, dtype: Int64"
      ]
     },
     "execution_count": 101,
     "metadata": {},
     "output_type": "execute_result"
    }
   ],
   "source": [
    "customers['City'].value_counts()\n",
    "customers['State'].value_counts()\n",
    "customers['IncomeLevel'].value_counts()\n",
    "customers['MaritalStatus'].value_counts()\n"
   ]
  },
  {
   "cell_type": "code",
   "execution_count": 102,
   "id": "f4f46aba-7473-430b-bd69-8fd631e9dd8a",
   "metadata": {},
   "outputs": [
    {
     "data": {
      "text/plain": [
       "<Axes: >"
      ]
     },
     "execution_count": 102,
     "metadata": {},
     "output_type": "execute_result"
    },
    {
     "data": {
      "image/png": "[encoded data removed]",
      "text/plain": [
       "<Figure size 640x480 with 1 Axes>"
      ]
     },
     "metadata": {},
     "output_type": "display_data"
    }
   ],
   "source": [
    "customers['Age'].describe()\n",
    "customers['Age'].hist()\n"
   ]
  },
  {
   "cell_type": "code",
   "execution_count": 103,
   "id": "8982f6a8-d13c-4ef7-8ae2-d383c2ce2cda",
   "metadata": {},
   "outputs": [
    {
     "data": {
      "text/html": [
       "<div>\n",
       "<style scoped>\n",
       "    .dataframe tbody tr th:only-of-type {\n",
       "        vertical-align: middle;\n",
       "    }\n",
       "\n",
       "    .dataframe tbody tr th {\n",
       "        vertical-align: top;\n",
       "    }\n",
       "\n",
       "    .dataframe thead th {\n",
       "        text-align: right;\n",
       "    }\n",
       "</style>\n",
       "<table border=\"1\" class=\"dataframe\">\n",
       "  <thead>\n",
       "    <tr style=\"text-align: right;\">\n",
       "      <th></th>\n",
       "      <th>Policy_id</th>\n",
       "      <th>Customer_id</th>\n",
       "      <th>PolicyType</th>\n",
       "      <th>PolicyStartDate</th>\n",
       "      <th>PolicyEndDate</th>\n",
       "      <th>PremiumAmount</th>\n",
       "      <th>PolicyStatus</th>\n",
       "    </tr>\n",
       "  </thead>\n",
       "  <tbody>\n",
       "    <tr>\n",
       "      <th>0</th>\n",
       "      <td>P2017</td>\n",
       "      <td>C995</td>\n",
       "      <td>Vehicle</td>\n",
       "      <td>2025-05-18</td>\n",
       "      <td>2027-05-29</td>\n",
       "      <td>27587</td>\n",
       "      <td>Expired</td>\n",
       "    </tr>\n",
       "    <tr>\n",
       "      <th>1</th>\n",
       "      <td>P2016</td>\n",
       "      <td>C995</td>\n",
       "      <td>Travel</td>\n",
       "      <td>2025-05-19</td>\n",
       "      <td>2026-03-14</td>\n",
       "      <td>37397</td>\n",
       "      <td>Expired</td>\n",
       "    </tr>\n",
       "    <tr>\n",
       "      <th>2</th>\n",
       "      <td>P2013</td>\n",
       "      <td>C994</td>\n",
       "      <td>Home</td>\n",
       "      <td>2024-08-16</td>\n",
       "      <td>2025-03-26</td>\n",
       "      <td>7879</td>\n",
       "      <td>Active</td>\n",
       "    </tr>\n",
       "    <tr>\n",
       "      <th>3</th>\n",
       "      <td>P2015</td>\n",
       "      <td>C994</td>\n",
       "      <td>Life</td>\n",
       "      <td>2024-09-13</td>\n",
       "      <td>2027-04-08</td>\n",
       "      <td>35149</td>\n",
       "      <td>Expired</td>\n",
       "    </tr>\n",
       "    <tr>\n",
       "      <th>4</th>\n",
       "      <td>P2014</td>\n",
       "      <td>C994</td>\n",
       "      <td>Home</td>\n",
       "      <td>2024-12-16</td>\n",
       "      <td>2026-03-01</td>\n",
       "      <td>34238</td>\n",
       "      <td>Active</td>\n",
       "    </tr>\n",
       "  </tbody>\n",
       "</table>\n",
       "</div>"
      ],
      "text/plain": [
       "  Policy_id Customer_id PolicyType PolicyStartDate PolicyEndDate  \\\n",
       "0     P2017        C995    Vehicle      2025-05-18    2027-05-29   \n",
       "1     P2016        C995     Travel      2025-05-19    2026-03-14   \n",
       "2     P2013        C994       Home      2024-08-16    2025-03-26   \n",
       "3     P2015        C994       Life      2024-09-13    2027-04-08   \n",
       "4     P2014        C994       Home      2024-12-16    2026-03-01   \n",
       "\n",
       "   PremiumAmount PolicyStatus  \n",
       "0          27587      Expired  \n",
       "1          37397      Expired  \n",
       "2           7879       Active  \n",
       "3          35149      Expired  \n",
       "4          34238       Active  "
      ]
     },
     "execution_count": 103,
     "metadata": {},
     "output_type": "execute_result"
    }
   ],
   "source": [
    "policies.head()"
   ]
  },
  {
   "cell_type": "code",
   "execution_count": 104,
   "id": "65b1560d-2c56-4cba-b7ec-b19f453a1b9e",
   "metadata": {},
   "outputs": [
    {
     "data": {
      "text/plain": [
       "PolicyType\n",
       "Health     25901.829498\n",
       "Home       26831.729703\n",
       "Life       26227.414610\n",
       "Travel     27205.629469\n",
       "Vehicle    25944.462136\n",
       "Name: PremiumAmount, dtype: float64"
      ]
     },
     "execution_count": 104,
     "metadata": {},
     "output_type": "execute_result"
    }
   ],
   "source": [
    "policies.groupby('PolicyType')['PremiumAmount'].mean()"
   ]
  },
  {
   "cell_type": "code",
   "execution_count": 105,
   "id": "f3c752ca-b858-4ea9-92ff-32b0ae5d308b",
   "metadata": {},
   "outputs": [
    {
     "data": {
      "text/plain": [
       "Policy_id          string[python]\n",
       "Customer_id        string[python]\n",
       "PolicyType         string[python]\n",
       "PolicyStartDate    datetime64[ns]\n",
       "PolicyEndDate      datetime64[ns]\n",
       "PremiumAmount               int64\n",
       "PolicyStatus       string[python]\n",
       "dtype: object"
      ]
     },
     "execution_count": 105,
     "metadata": {},
     "output_type": "execute_result"
    }
   ],
   "source": [
    "policies.dtypes"
   ]
  },
  {
   "cell_type": "code",
   "execution_count": 106,
   "id": "864a6f50-b0cf-46df-9922-3067e5c662b3",
   "metadata": {},
   "outputs": [
    {
     "data": {
      "text/plain": [
       "Customer_id\n",
       "C280     1\n",
       "C1340    1\n",
       "C1444    1\n",
       "C1107    1\n",
       "C1779    1\n",
       "C2440    1\n",
       "C2149    1\n",
       "C962     1\n",
       "C686     1\n",
       "C2014    1\n",
       "Name: count, dtype: Int64"
      ]
     },
     "execution_count": 106,
     "metadata": {},
     "output_type": "execute_result"
    }
   ],
   "source": [
    "policies['Customer_id'].value_counts().tail(10)"
   ]
  },
  {
   "cell_type": "code",
   "execution_count": 107,
   "id": "07a61a41-e8b4-4f9c-9e64-6d6eda2198cd",
   "metadata": {},
   "outputs": [
    {
     "data": {
      "text/html": [
       "<div>\n",
       "<style scoped>\n",
       "    .dataframe tbody tr th:only-of-type {\n",
       "        vertical-align: middle;\n",
       "    }\n",
       "\n",
       "    .dataframe tbody tr th {\n",
       "        vertical-align: top;\n",
       "    }\n",
       "\n",
       "    .dataframe thead th {\n",
       "        text-align: right;\n",
       "    }\n",
       "</style>\n",
       "<table border=\"1\" class=\"dataframe\">\n",
       "  <thead>\n",
       "    <tr style=\"text-align: right;\">\n",
       "      <th></th>\n",
       "      <th>Claim_id</th>\n",
       "      <th>Policy_id</th>\n",
       "      <th>Customer_id</th>\n",
       "      <th>DateofClaim</th>\n",
       "      <th>ClaimAmount</th>\n",
       "      <th>ClaimStatus</th>\n",
       "      <th>ClaimReason</th>\n",
       "      <th>SettlementDate</th>\n",
       "    </tr>\n",
       "  </thead>\n",
       "  <tbody>\n",
       "    <tr>\n",
       "      <th>0</th>\n",
       "      <td>CL1066</td>\n",
       "      <td>P3624</td>\n",
       "      <td>C1820</td>\n",
       "      <td>2022-08-25</td>\n",
       "      <td>68019</td>\n",
       "      <td>Rejected</td>\n",
       "      <td>Damage</td>\n",
       "      <td>2022-09-06</td>\n",
       "    </tr>\n",
       "    <tr>\n",
       "      <th>1</th>\n",
       "      <td>CL1073</td>\n",
       "      <td>P3667</td>\n",
       "      <td>C1840</td>\n",
       "      <td>2022-10-11</td>\n",
       "      <td>32707</td>\n",
       "      <td>Rejected</td>\n",
       "      <td>Theft</td>\n",
       "      <td>2022-10-28</td>\n",
       "    </tr>\n",
       "    <tr>\n",
       "      <th>2</th>\n",
       "      <td>CL853</td>\n",
       "      <td>P2918</td>\n",
       "      <td>C1452</td>\n",
       "      <td>2022-11-15</td>\n",
       "      <td>22383</td>\n",
       "      <td>Pending</td>\n",
       "      <td>Loss</td>\n",
       "      <td>2023-01-22</td>\n",
       "    </tr>\n",
       "    <tr>\n",
       "      <th>3</th>\n",
       "      <td>CL119</td>\n",
       "      <td>P420</td>\n",
       "      <td>C207</td>\n",
       "      <td>2022-11-26</td>\n",
       "      <td>33386</td>\n",
       "      <td>Pending</td>\n",
       "      <td>Fire</td>\n",
       "      <td>2022-12-17</td>\n",
       "    </tr>\n",
       "    <tr>\n",
       "      <th>4</th>\n",
       "      <td>CL738</td>\n",
       "      <td>P2513</td>\n",
       "      <td>C1247</td>\n",
       "      <td>2022-11-28</td>\n",
       "      <td>53143</td>\n",
       "      <td>Pending</td>\n",
       "      <td>Flood</td>\n",
       "      <td>2023-01-11</td>\n",
       "    </tr>\n",
       "  </tbody>\n",
       "</table>\n",
       "</div>"
      ],
      "text/plain": [
       "  Claim_id Policy_id Customer_id DateofClaim  ClaimAmount ClaimStatus  \\\n",
       "0   CL1066     P3624       C1820  2022-08-25        68019    Rejected   \n",
       "1   CL1073     P3667       C1840  2022-10-11        32707    Rejected   \n",
       "2    CL853     P2918       C1452  2022-11-15        22383     Pending   \n",
       "3    CL119      P420        C207  2022-11-26        33386     Pending   \n",
       "4    CL738     P2513       C1247  2022-11-28        53143     Pending   \n",
       "\n",
       "  ClaimReason SettlementDate  \n",
       "0      Damage     2022-09-06  \n",
       "1       Theft     2022-10-28  \n",
       "2        Loss     2023-01-22  \n",
       "3        Fire     2022-12-17  \n",
       "4       Flood     2023-01-11  "
      ]
     },
     "execution_count": 107,
     "metadata": {},
     "output_type": "execute_result"
    }
   ],
   "source": [
    "claims.head()"
   ]
  },
  {
   "cell_type": "code",
   "execution_count": 108,
   "id": "d7677940-6287-4dfa-8a67-a108a5dd451c",
   "metadata": {},
   "outputs": [
    {
     "name": "stdout",
     "output_type": "stream",
     "text": [
      "     Customer_id               Name  Age Gender  \\\n",
      "0             C1        Farhan Tank   58   Male   \n",
      "1             C1        Farhan Tank   58   Male   \n",
      "2             C1        Farhan Tank   58   Male   \n",
      "3             C2  Onkar Rajagopalan   35   Male   \n",
      "4             C2  Onkar Rajagopalan   35   Male   \n",
      "...          ...                ...  ...    ...   \n",
      "4927       C2498       Kartik Uppal   45   Male   \n",
      "4928       C2499          Rhea Wali   34  Other   \n",
      "4929       C2500     Samarth Bhatti   44  Other   \n",
      "4930       C2500     Samarth Bhatti   44  Other   \n",
      "4931       C2500     Samarth Bhatti   44  Other   \n",
      "\n",
      "                               Email           City        State IncomeLevel  \\\n",
      "0     gangulyelakshi@chakraborty.com     Chandrapur      Gujarat         Low   \n",
      "1     gangulyelakshi@chakraborty.com     Chandrapur      Gujarat         Low   \n",
      "2     gangulyelakshi@chakraborty.com     Chandrapur      Gujarat         Low   \n",
      "3                 ritvik11@gmail.com          Delhi  West Bengal         Low   \n",
      "4                 ritvik11@gmail.com          Delhi  West Bengal         Low   \n",
      "...                              ...            ...          ...         ...   \n",
      "4927     adahrastogi@samra-mand.info      Ghaziabad        Assam         Low   \n",
      "4928          baradaaryahi@chana.org      Kharagpur     Nagaland         Low   \n",
      "4929           cchauhan@krishnan.com  Visakhapatnam        Assam        High   \n",
      "4930           cchauhan@krishnan.com  Visakhapatnam        Assam        High   \n",
      "4931           cchauhan@krishnan.com  Visakhapatnam        Assam        High   \n",
      "\n",
      "     MaritalStatus RegistrationDate Policy_id PolicyType PolicyStartDate  \\\n",
      "0         Divorced       2024-10-07        P2       Life      2024-12-30   \n",
      "1         Divorced       2024-10-07        P3     Health      2025-03-27   \n",
      "2         Divorced       2024-10-07        P1    Vehicle      2025-04-03   \n",
      "3           Single       2023-08-22        P5       Home      2024-02-23   \n",
      "4           Single       2023-08-22        P4       Home      2024-07-22   \n",
      "...            ...              ...       ...        ...             ...   \n",
      "4927      Divorced       2023-02-20     P4927       Life      2025-02-24   \n",
      "4928       Married       2022-05-31     P4929    Vehicle      2025-02-19   \n",
      "4929      Divorced       2023-11-13     P4930       Life      2024-02-18   \n",
      "4930      Divorced       2023-11-13     P4931    Vehicle      2024-08-20   \n",
      "4931      Divorced       2023-11-13     P4932     Travel      2024-11-04   \n",
      "\n",
      "     PolicyEndDate  PremiumAmount PolicyStatus  \n",
      "0       2027-04-15          32617    Cancelled  \n",
      "1       2026-02-09          21831    Cancelled  \n",
      "2       2026-08-30          35675       Active  \n",
      "3       2025-05-03          36538    Cancelled  \n",
      "4       2025-12-05           6865       Active  \n",
      "...            ...            ...          ...  \n",
      "4927    2027-12-19          31440      Expired  \n",
      "4928    2025-11-27          16888       Active  \n",
      "4929    2025-01-05           4243       Active  \n",
      "4930    2026-04-09          28454       Active  \n",
      "4931    2025-09-02          35171    Cancelled  \n",
      "\n",
      "[4932 rows x 16 columns]\n"
     ]
    }
   ],
   "source": [
    "cust_policy = pd.merge(customers, policies, on='Customer_id', how='left')\n",
    "print(cust_policy)"
   ]
  },
  {
   "cell_type": "code",
   "execution_count": 109,
   "id": "923c1ca0-7204-47f5-be00-bffac445feaa",
   "metadata": {},
   "outputs": [
    {
     "data": {
      "text/plain": [
       "Customer_id\n",
       "C1       30041.000000\n",
       "C10      17785.666667\n",
       "C100     38350.000000\n",
       "C1000    32478.500000\n",
       "C1001    16902.000000\n",
       "             ...     \n",
       "C995     32492.000000\n",
       "C996     38242.000000\n",
       "C997     10318.000000\n",
       "C998     44980.000000\n",
       "C999     46045.000000\n",
       "Name: PremiumAmount, Length: 2500, dtype: float64"
      ]
     },
     "execution_count": 109,
     "metadata": {},
     "output_type": "execute_result"
    }
   ],
   "source": [
    "cust_policy.groupby('Customer_id')['PremiumAmount'].mean()"
   ]
  },
  {
   "cell_type": "code",
   "execution_count": 110,
   "id": "e26d5ff0-e049-4397-aec9-ff73e5bf5645",
   "metadata": {},
   "outputs": [
    {
     "name": "stdout",
     "output_type": "stream",
     "text": [
      "Customer_id\n",
      "C1963    285078.0\n",
      "C54      257471.0\n",
      "C2271    241406.0\n",
      "C466     241024.0\n",
      "C1351    236767.0\n",
      "C935     222665.0\n",
      "C870     217707.0\n",
      "C2061    217514.0\n",
      "C2366    216675.0\n",
      "C765     216649.0\n",
      "dtype: float64\n"
     ]
    }
   ],
   "source": [
    "prem_sum = policies.groupby('Customer_id')['PremiumAmount'].sum()\n",
    "claim_sum = claims.groupby('Customer_id')['ClaimAmount'].sum()\n",
    "total = (prem_sum + claim_sum).sort_values(ascending=False).head(10)\n",
    "print(total)"
   ]
  },
  {
   "cell_type": "code",
   "execution_count": 111,
   "id": "9c841e27-2777-47df-8cdc-bed820ff4708",
   "metadata": {},
   "outputs": [
    {
     "data": {
      "text/html": [
       "<div>\n",
       "<style scoped>\n",
       "    .dataframe tbody tr th:only-of-type {\n",
       "        vertical-align: middle;\n",
       "    }\n",
       "\n",
       "    .dataframe tbody tr th {\n",
       "        vertical-align: top;\n",
       "    }\n",
       "\n",
       "    .dataframe thead th {\n",
       "        text-align: right;\n",
       "    }\n",
       "</style>\n",
       "<table border=\"1\" class=\"dataframe\">\n",
       "  <thead>\n",
       "    <tr style=\"text-align: right;\">\n",
       "      <th></th>\n",
       "      <th>Claim_id</th>\n",
       "      <th>ClaimAmount</th>\n",
       "    </tr>\n",
       "    <tr>\n",
       "      <th>PolicyType</th>\n",
       "      <th></th>\n",
       "      <th></th>\n",
       "    </tr>\n",
       "  </thead>\n",
       "  <tbody>\n",
       "    <tr>\n",
       "      <th>Health</th>\n",
       "      <td>131</td>\n",
       "      <td>6546494</td>\n",
       "    </tr>\n",
       "    <tr>\n",
       "      <th>Home</th>\n",
       "      <td>132</td>\n",
       "      <td>6820204</td>\n",
       "    </tr>\n",
       "    <tr>\n",
       "      <th>Life</th>\n",
       "      <td>117</td>\n",
       "      <td>5796466</td>\n",
       "    </tr>\n",
       "    <tr>\n",
       "      <th>Travel</th>\n",
       "      <td>113</td>\n",
       "      <td>5725744</td>\n",
       "    </tr>\n",
       "    <tr>\n",
       "      <th>Vehicle</th>\n",
       "      <td>121</td>\n",
       "      <td>5961997</td>\n",
       "    </tr>\n",
       "  </tbody>\n",
       "</table>\n",
       "</div>"
      ],
      "text/plain": [
       "            Claim_id  ClaimAmount\n",
       "PolicyType                       \n",
       "Health           131      6546494\n",
       "Home             132      6820204\n",
       "Life             117      5796466\n",
       "Travel           113      5725744\n",
       "Vehicle          121      5961997"
      ]
     },
     "execution_count": 111,
     "metadata": {},
     "output_type": "execute_result"
    }
   ],
   "source": [
    "merged = claims.merge(policies[['Policy_id', 'PolicyType']], on='Policy_id')\n",
    "merged.groupby('PolicyType').agg({'Claim_id':'count', 'ClaimAmount':'sum'})"
   ]
  },
  {
   "cell_type": "code",
   "execution_count": 112,
   "id": "dd73261a-fe8a-470b-89bb-7c86e1fd024f",
   "metadata": {},
   "outputs": [
    {
     "data": {
      "text/html": [
       "<div>\n",
       "<style scoped>\n",
       "    .dataframe tbody tr th:only-of-type {\n",
       "        vertical-align: middle;\n",
       "    }\n",
       "\n",
       "    .dataframe tbody tr th {\n",
       "        vertical-align: top;\n",
       "    }\n",
       "\n",
       "    .dataframe thead th {\n",
       "        text-align: right;\n",
       "    }\n",
       "</style>\n",
       "<table border=\"1\" class=\"dataframe\">\n",
       "  <thead>\n",
       "    <tr style=\"text-align: right;\">\n",
       "      <th></th>\n",
       "      <th>Claim_id</th>\n",
       "      <th>Policy_id</th>\n",
       "      <th>Customer_id</th>\n",
       "      <th>DateofClaim</th>\n",
       "      <th>ClaimAmount</th>\n",
       "      <th>ClaimStatus</th>\n",
       "      <th>ClaimReason</th>\n",
       "      <th>SettlementDate</th>\n",
       "    </tr>\n",
       "  </thead>\n",
       "  <tbody>\n",
       "    <tr>\n",
       "      <th>0</th>\n",
       "      <td>CL1066</td>\n",
       "      <td>P3624</td>\n",
       "      <td>C1820</td>\n",
       "      <td>2022-08-25</td>\n",
       "      <td>68019</td>\n",
       "      <td>Rejected</td>\n",
       "      <td>Damage</td>\n",
       "      <td>2022-09-06</td>\n",
       "    </tr>\n",
       "    <tr>\n",
       "      <th>1</th>\n",
       "      <td>CL1073</td>\n",
       "      <td>P3667</td>\n",
       "      <td>C1840</td>\n",
       "      <td>2022-10-11</td>\n",
       "      <td>32707</td>\n",
       "      <td>Rejected</td>\n",
       "      <td>Theft</td>\n",
       "      <td>2022-10-28</td>\n",
       "    </tr>\n",
       "    <tr>\n",
       "      <th>2</th>\n",
       "      <td>CL853</td>\n",
       "      <td>P2918</td>\n",
       "      <td>C1452</td>\n",
       "      <td>2022-11-15</td>\n",
       "      <td>22383</td>\n",
       "      <td>Pending</td>\n",
       "      <td>Loss</td>\n",
       "      <td>2023-01-22</td>\n",
       "    </tr>\n",
       "    <tr>\n",
       "      <th>3</th>\n",
       "      <td>CL119</td>\n",
       "      <td>P420</td>\n",
       "      <td>C207</td>\n",
       "      <td>2022-11-26</td>\n",
       "      <td>33386</td>\n",
       "      <td>Pending</td>\n",
       "      <td>Fire</td>\n",
       "      <td>2022-12-17</td>\n",
       "    </tr>\n",
       "    <tr>\n",
       "      <th>4</th>\n",
       "      <td>CL738</td>\n",
       "      <td>P2513</td>\n",
       "      <td>C1247</td>\n",
       "      <td>2022-11-28</td>\n",
       "      <td>53143</td>\n",
       "      <td>Pending</td>\n",
       "      <td>Flood</td>\n",
       "      <td>2023-01-11</td>\n",
       "    </tr>\n",
       "  </tbody>\n",
       "</table>\n",
       "</div>"
      ],
      "text/plain": [
       "  Claim_id Policy_id Customer_id DateofClaim  ClaimAmount ClaimStatus  \\\n",
       "0   CL1066     P3624       C1820  2022-08-25        68019    Rejected   \n",
       "1   CL1073     P3667       C1840  2022-10-11        32707    Rejected   \n",
       "2    CL853     P2918       C1452  2022-11-15        22383     Pending   \n",
       "3    CL119      P420        C207  2022-11-26        33386     Pending   \n",
       "4    CL738     P2513       C1247  2022-11-28        53143     Pending   \n",
       "\n",
       "  ClaimReason SettlementDate  \n",
       "0      Damage     2022-09-06  \n",
       "1       Theft     2022-10-28  \n",
       "2        Loss     2023-01-22  \n",
       "3        Fire     2022-12-17  \n",
       "4       Flood     2023-01-11  "
      ]
     },
     "execution_count": 112,
     "metadata": {},
     "output_type": "execute_result"
    }
   ],
   "source": [
    "claims.head()"
   ]
  },
  {
   "cell_type": "code",
   "execution_count": 113,
   "id": "48c99fca-2bd8-4f74-b1ea-fc2501dbe065",
   "metadata": {},
   "outputs": [
    {
     "data": {
      "text/html": [
       "<div>\n",
       "<style scoped>\n",
       "    .dataframe tbody tr th:only-of-type {\n",
       "        vertical-align: middle;\n",
       "    }\n",
       "\n",
       "    .dataframe tbody tr th {\n",
       "        vertical-align: top;\n",
       "    }\n",
       "\n",
       "    .dataframe thead th {\n",
       "        text-align: right;\n",
       "    }\n",
       "</style>\n",
       "<table border=\"1\" class=\"dataframe\">\n",
       "  <thead>\n",
       "    <tr style=\"text-align: right;\">\n",
       "      <th></th>\n",
       "      <th>Policy_id</th>\n",
       "      <th>Customer_id</th>\n",
       "      <th>PolicyType</th>\n",
       "      <th>PolicyStartDate</th>\n",
       "      <th>PolicyEndDate</th>\n",
       "      <th>PremiumAmount</th>\n",
       "      <th>PolicyStatus</th>\n",
       "    </tr>\n",
       "  </thead>\n",
       "  <tbody>\n",
       "    <tr>\n",
       "      <th>0</th>\n",
       "      <td>P2017</td>\n",
       "      <td>C995</td>\n",
       "      <td>Vehicle</td>\n",
       "      <td>2025-05-18</td>\n",
       "      <td>2027-05-29</td>\n",
       "      <td>27587</td>\n",
       "      <td>Expired</td>\n",
       "    </tr>\n",
       "    <tr>\n",
       "      <th>1</th>\n",
       "      <td>P2016</td>\n",
       "      <td>C995</td>\n",
       "      <td>Travel</td>\n",
       "      <td>2025-05-19</td>\n",
       "      <td>2026-03-14</td>\n",
       "      <td>37397</td>\n",
       "      <td>Expired</td>\n",
       "    </tr>\n",
       "    <tr>\n",
       "      <th>2</th>\n",
       "      <td>P2013</td>\n",
       "      <td>C994</td>\n",
       "      <td>Home</td>\n",
       "      <td>2024-08-16</td>\n",
       "      <td>2025-03-26</td>\n",
       "      <td>7879</td>\n",
       "      <td>Active</td>\n",
       "    </tr>\n",
       "    <tr>\n",
       "      <th>3</th>\n",
       "      <td>P2015</td>\n",
       "      <td>C994</td>\n",
       "      <td>Life</td>\n",
       "      <td>2024-09-13</td>\n",
       "      <td>2027-04-08</td>\n",
       "      <td>35149</td>\n",
       "      <td>Expired</td>\n",
       "    </tr>\n",
       "    <tr>\n",
       "      <th>4</th>\n",
       "      <td>P2014</td>\n",
       "      <td>C994</td>\n",
       "      <td>Home</td>\n",
       "      <td>2024-12-16</td>\n",
       "      <td>2026-03-01</td>\n",
       "      <td>34238</td>\n",
       "      <td>Active</td>\n",
       "    </tr>\n",
       "  </tbody>\n",
       "</table>\n",
       "</div>"
      ],
      "text/plain": [
       "  Policy_id Customer_id PolicyType PolicyStartDate PolicyEndDate  \\\n",
       "0     P2017        C995    Vehicle      2025-05-18    2027-05-29   \n",
       "1     P2016        C995     Travel      2025-05-19    2026-03-14   \n",
       "2     P2013        C994       Home      2024-08-16    2025-03-26   \n",
       "3     P2015        C994       Life      2024-09-13    2027-04-08   \n",
       "4     P2014        C994       Home      2024-12-16    2026-03-01   \n",
       "\n",
       "   PremiumAmount PolicyStatus  \n",
       "0          27587      Expired  \n",
       "1          37397      Expired  \n",
       "2           7879       Active  \n",
       "3          35149      Expired  \n",
       "4          34238       Active  "
      ]
     },
     "execution_count": 113,
     "metadata": {},
     "output_type": "execute_result"
    }
   ],
   "source": [
    "policies.head()"
   ]
  },
  {
   "cell_type": "code",
   "execution_count": 114,
   "id": "ecbc7bae-3c15-4b3d-b4d3-ad05f3a7dd2b",
   "metadata": {},
   "outputs": [
    {
     "name": "stdout",
     "output_type": "stream",
     "text": [
      "PolicyType\n",
      "Health     25392673.0\n",
      "Home       27572118.0\n",
      "Life       27607922.0\n",
      "Travel     24137782.0\n",
      "Vehicle    28186948.0\n",
      "Name: PaymentAmount, dtype: float64\n"
     ]
    }
   ],
   "source": [
    "policy_payment= pd.merge(policies, payments, how='left', on='Customer_id')\n",
    "paymentbypolicy= policy_payment.groupby('PolicyType')['PaymentAmount'].sum()\n",
    "print(paymentbypolicy)"
   ]
  },
  {
   "cell_type": "code",
   "execution_count": 115,
   "id": "2163b9ee-b261-4f26-a2fc-a10c712b8ffa",
   "metadata": {},
   "outputs": [
    {
     "name": "stdout",
     "output_type": "stream",
     "text": [
      "PolicyType\n",
      "Health     0.374046\n",
      "Home       0.340909\n",
      "Life       0.393162\n",
      "Travel     0.318584\n",
      "Vehicle    0.256198\n",
      "Name: Claim_id, dtype: float64\n"
     ]
    }
   ],
   "source": [
    "claims_with_policy = claims.merge(policies[['Policy_id', 'PolicyType']], on='Policy_id')\n",
    "total_claims = claims_with_policy.groupby('PolicyType')['Claim_id'].count()\n",
    "approved_claims = claims_with_policy[claims_with_policy['ClaimStatus'] == 'Approved'].groupby('PolicyType')['Claim_id'].count()\n",
    "settlement_ratio = (approved_claims / total_claims).fillna(0)\n",
    "print(settlement_ratio)\n"
   ]
  },
  {
   "cell_type": "code",
   "execution_count": 116,
   "id": "e339b10f-8c38-4c0e-9275-b782deebe955",
   "metadata": {},
   "outputs": [
    {
     "name": "stdout",
     "output_type": "stream",
     "text": [
      "             Claim_id  ClaimAmount\n",
      "Customer_id                       \n",
      "C209                3        78551\n"
     ]
    }
   ],
   "source": [
    "risk_customers = claims.groupby('Customer_id').agg({'Claim_id':'count', 'ClaimAmount':'sum'})\n",
    "high_risk_customers=risk_customers[(risk_customers['Claim_id'] > 2) & (risk_customers['ClaimAmount'] > 50000)]\n",
    "print(high_risk_customers)"
   ]
  },
  {
   "cell_type": "code",
   "execution_count": 117,
   "id": "097f5733-b26a-4ee8-ba80-2a3c25bf140d",
   "metadata": {},
   "outputs": [
    {
     "data": {
      "text/html": [
       "<div>\n",
       "<style scoped>\n",
       "    .dataframe tbody tr th:only-of-type {\n",
       "        vertical-align: middle;\n",
       "    }\n",
       "\n",
       "    .dataframe tbody tr th {\n",
       "        vertical-align: top;\n",
       "    }\n",
       "\n",
       "    .dataframe thead th {\n",
       "        text-align: right;\n",
       "    }\n",
       "</style>\n",
       "<table border=\"1\" class=\"dataframe\">\n",
       "  <thead>\n",
       "    <tr style=\"text-align: right;\">\n",
       "      <th></th>\n",
       "      <th>ClaimAmount</th>\n",
       "      <th>PaymentAmount</th>\n",
       "    </tr>\n",
       "    <tr>\n",
       "      <th>Customer_id</th>\n",
       "      <th></th>\n",
       "      <th></th>\n",
       "    </tr>\n",
       "  </thead>\n",
       "  <tbody>\n",
       "    <tr>\n",
       "      <th>C1</th>\n",
       "      <td>61204.0</td>\n",
       "      <td>10872.0</td>\n",
       "    </tr>\n",
       "    <tr>\n",
       "      <th>C100</th>\n",
       "      <td>29433.0</td>\n",
       "      <td>38350.0</td>\n",
       "    </tr>\n",
       "    <tr>\n",
       "      <th>C1000</th>\n",
       "      <td>83532.0</td>\n",
       "      <td>31816.0</td>\n",
       "    </tr>\n",
       "    <tr>\n",
       "      <th>C1004</th>\n",
       "      <td>36407.0</td>\n",
       "      <td>42458.0</td>\n",
       "    </tr>\n",
       "    <tr>\n",
       "      <th>C1005</th>\n",
       "      <td>79444.0</td>\n",
       "      <td>49483.0</td>\n",
       "    </tr>\n",
       "    <tr>\n",
       "      <th>...</th>\n",
       "      <td>...</td>\n",
       "      <td>...</td>\n",
       "    </tr>\n",
       "    <tr>\n",
       "      <th>C991</th>\n",
       "      <td>0.0</td>\n",
       "      <td>74146.0</td>\n",
       "    </tr>\n",
       "    <tr>\n",
       "      <th>C992</th>\n",
       "      <td>0.0</td>\n",
       "      <td>27840.0</td>\n",
       "    </tr>\n",
       "    <tr>\n",
       "      <th>C994</th>\n",
       "      <td>0.0</td>\n",
       "      <td>36867.0</td>\n",
       "    </tr>\n",
       "    <tr>\n",
       "      <th>C996</th>\n",
       "      <td>0.0</td>\n",
       "      <td>38242.0</td>\n",
       "    </tr>\n",
       "    <tr>\n",
       "      <th>C997</th>\n",
       "      <td>0.0</td>\n",
       "      <td>6878.0</td>\n",
       "    </tr>\n",
       "  </tbody>\n",
       "</table>\n",
       "<p>1803 rows × 2 columns</p>\n",
       "</div>"
      ],
      "text/plain": [
       "             ClaimAmount  PaymentAmount\n",
       "Customer_id                            \n",
       "C1               61204.0        10872.0\n",
       "C100             29433.0        38350.0\n",
       "C1000            83532.0        31816.0\n",
       "C1004            36407.0        42458.0\n",
       "C1005            79444.0        49483.0\n",
       "...                  ...            ...\n",
       "C991                 0.0        74146.0\n",
       "C992                 0.0        27840.0\n",
       "C994                 0.0        36867.0\n",
       "C996                 0.0        38242.0\n",
       "C997                 0.0         6878.0\n",
       "\n",
       "[1803 rows x 2 columns]"
      ]
     },
     "execution_count": 117,
     "metadata": {},
     "output_type": "execute_result"
    }
   ],
   "source": [
    "claim_sum = claims.groupby('Customer_id')['ClaimAmount'].sum()\n",
    "payment_sum = payments.groupby('Customer_id')['PaymentAmount'].sum()\n",
    "pd.concat([claim_sum, payment_sum], axis=1).fillna(0)\n"
   ]
  },
  {
   "cell_type": "code",
   "execution_count": 118,
   "id": "fe4fa4fe-e09b-40e7-b9ff-55469e15a1b8",
   "metadata": {},
   "outputs": [
    {
     "data": {
      "text/html": [
       "<div>\n",
       "<style scoped>\n",
       "    .dataframe tbody tr th:only-of-type {\n",
       "        vertical-align: middle;\n",
       "    }\n",
       "\n",
       "    .dataframe tbody tr th {\n",
       "        vertical-align: top;\n",
       "    }\n",
       "\n",
       "    .dataframe thead th {\n",
       "        text-align: right;\n",
       "    }\n",
       "</style>\n",
       "<table border=\"1\" class=\"dataframe\">\n",
       "  <thead>\n",
       "    <tr style=\"text-align: right;\">\n",
       "      <th>ClaimStatus</th>\n",
       "      <th>Approved</th>\n",
       "      <th>Pending</th>\n",
       "      <th>Rejected</th>\n",
       "    </tr>\n",
       "    <tr>\n",
       "      <th>PaymentMethod</th>\n",
       "      <th></th>\n",
       "      <th></th>\n",
       "      <th></th>\n",
       "    </tr>\n",
       "  </thead>\n",
       "  <tbody>\n",
       "    <tr>\n",
       "      <th>Credit Card</th>\n",
       "      <td>70</td>\n",
       "      <td>67</td>\n",
       "      <td>77</td>\n",
       "    </tr>\n",
       "    <tr>\n",
       "      <th>Debit Card</th>\n",
       "      <td>73</td>\n",
       "      <td>74</td>\n",
       "      <td>69</td>\n",
       "    </tr>\n",
       "    <tr>\n",
       "      <th>Net Banking</th>\n",
       "      <td>74</td>\n",
       "      <td>81</td>\n",
       "      <td>72</td>\n",
       "    </tr>\n",
       "    <tr>\n",
       "      <th>UPI</th>\n",
       "      <td>67</td>\n",
       "      <td>71</td>\n",
       "      <td>70</td>\n",
       "    </tr>\n",
       "  </tbody>\n",
       "</table>\n",
       "</div>"
      ],
      "text/plain": [
       "ClaimStatus    Approved  Pending  Rejected\n",
       "PaymentMethod                             \n",
       "Credit Card          70       67        77\n",
       "Debit Card           73       74        69\n",
       "Net Banking          74       81        72\n",
       "UPI                  67       71        70"
      ]
     },
     "execution_count": 118,
     "metadata": {},
     "output_type": "execute_result"
    }
   ],
   "source": [
    "merged = claims.merge(payments[['Policy_id', 'PaymentMethod']], on='Policy_id')\n",
    "pd.crosstab(merged['PaymentMethod'], merged['ClaimStatus'])\n"
   ]
  },
  {
   "cell_type": "code",
   "execution_count": 119,
   "id": "fb132d7f-6d05-46d5-9205-ec966585ae98",
   "metadata": {},
   "outputs": [
    {
     "data": {
      "text/html": [
       "<div>\n",
       "<style scoped>\n",
       "    .dataframe tbody tr th:only-of-type {\n",
       "        vertical-align: middle;\n",
       "    }\n",
       "\n",
       "    .dataframe tbody tr th {\n",
       "        vertical-align: top;\n",
       "    }\n",
       "\n",
       "    .dataframe thead th {\n",
       "        text-align: right;\n",
       "    }\n",
       "</style>\n",
       "<table border=\"1\" class=\"dataframe\">\n",
       "  <thead>\n",
       "    <tr style=\"text-align: right;\">\n",
       "      <th>ClaimStatus</th>\n",
       "      <th>Approved</th>\n",
       "      <th>Pending</th>\n",
       "      <th>Rejected</th>\n",
       "    </tr>\n",
       "    <tr>\n",
       "      <th>PaymentMethod</th>\n",
       "      <th></th>\n",
       "      <th></th>\n",
       "      <th></th>\n",
       "    </tr>\n",
       "  </thead>\n",
       "  <tbody>\n",
       "    <tr>\n",
       "      <th>Credit Card</th>\n",
       "      <td>148</td>\n",
       "      <td>126</td>\n",
       "      <td>140</td>\n",
       "    </tr>\n",
       "    <tr>\n",
       "      <th>Debit Card</th>\n",
       "      <td>163</td>\n",
       "      <td>143</td>\n",
       "      <td>148</td>\n",
       "    </tr>\n",
       "    <tr>\n",
       "      <th>Net Banking</th>\n",
       "      <td>129</td>\n",
       "      <td>151</td>\n",
       "      <td>147</td>\n",
       "    </tr>\n",
       "    <tr>\n",
       "      <th>UPI</th>\n",
       "      <td>133</td>\n",
       "      <td>141</td>\n",
       "      <td>148</td>\n",
       "    </tr>\n",
       "  </tbody>\n",
       "</table>\n",
       "</div>"
      ],
      "text/plain": [
       "ClaimStatus    Approved  Pending  Rejected\n",
       "PaymentMethod                             \n",
       "Credit Card         148      126       140\n",
       "Debit Card          163      143       148\n",
       "Net Banking         129      151       147\n",
       "UPI                 133      141       148"
      ]
     },
     "execution_count": 119,
     "metadata": {},
     "output_type": "execute_result"
    }
   ],
   "source": [
    "payment_with_claim= pd.merge(payments,claims,how='left',on='Customer_id')\n",
    "pd.crosstab(payment_with_claim['PaymentMethod'],payment_with_claim['ClaimStatus'])"
   ]
  },
  {
   "cell_type": "code",
   "execution_count": 120,
   "id": "0fafbcea-1a0c-4180-8a5f-6ee51e8cd6b1",
   "metadata": {},
   "outputs": [
    {
     "data": {
      "text/html": [
       "<div>\n",
       "<style scoped>\n",
       "    .dataframe tbody tr th:only-of-type {\n",
       "        vertical-align: middle;\n",
       "    }\n",
       "\n",
       "    .dataframe tbody tr th {\n",
       "        vertical-align: top;\n",
       "    }\n",
       "\n",
       "    .dataframe thead th {\n",
       "        text-align: right;\n",
       "    }\n",
       "</style>\n",
       "<table border=\"1\" class=\"dataframe\">\n",
       "  <thead>\n",
       "    <tr style=\"text-align: right;\">\n",
       "      <th></th>\n",
       "      <th>ClaimAmount</th>\n",
       "      <th>PaymentAmount</th>\n",
       "    </tr>\n",
       "    <tr>\n",
       "      <th>Customer_id</th>\n",
       "      <th></th>\n",
       "      <th></th>\n",
       "    </tr>\n",
       "  </thead>\n",
       "  <tbody>\n",
       "    <tr>\n",
       "      <th>C1</th>\n",
       "      <td>61204.0</td>\n",
       "      <td>10872.0</td>\n",
       "    </tr>\n",
       "    <tr>\n",
       "      <th>C100</th>\n",
       "      <td>29433.0</td>\n",
       "      <td>38350.0</td>\n",
       "    </tr>\n",
       "    <tr>\n",
       "      <th>C1000</th>\n",
       "      <td>83532.0</td>\n",
       "      <td>31816.0</td>\n",
       "    </tr>\n",
       "    <tr>\n",
       "      <th>C1004</th>\n",
       "      <td>36407.0</td>\n",
       "      <td>42458.0</td>\n",
       "    </tr>\n",
       "    <tr>\n",
       "      <th>C1005</th>\n",
       "      <td>79444.0</td>\n",
       "      <td>49483.0</td>\n",
       "    </tr>\n",
       "    <tr>\n",
       "      <th>...</th>\n",
       "      <td>...</td>\n",
       "      <td>...</td>\n",
       "    </tr>\n",
       "    <tr>\n",
       "      <th>C991</th>\n",
       "      <td>0.0</td>\n",
       "      <td>74146.0</td>\n",
       "    </tr>\n",
       "    <tr>\n",
       "      <th>C992</th>\n",
       "      <td>0.0</td>\n",
       "      <td>27840.0</td>\n",
       "    </tr>\n",
       "    <tr>\n",
       "      <th>C994</th>\n",
       "      <td>0.0</td>\n",
       "      <td>36867.0</td>\n",
       "    </tr>\n",
       "    <tr>\n",
       "      <th>C996</th>\n",
       "      <td>0.0</td>\n",
       "      <td>38242.0</td>\n",
       "    </tr>\n",
       "    <tr>\n",
       "      <th>C997</th>\n",
       "      <td>0.0</td>\n",
       "      <td>6878.0</td>\n",
       "    </tr>\n",
       "  </tbody>\n",
       "</table>\n",
       "<p>1803 rows × 2 columns</p>\n",
       "</div>"
      ],
      "text/plain": [
       "             ClaimAmount  PaymentAmount\n",
       "Customer_id                            \n",
       "C1               61204.0        10872.0\n",
       "C100             29433.0        38350.0\n",
       "C1000            83532.0        31816.0\n",
       "C1004            36407.0        42458.0\n",
       "C1005            79444.0        49483.0\n",
       "...                  ...            ...\n",
       "C991                 0.0        74146.0\n",
       "C992                 0.0        27840.0\n",
       "C994                 0.0        36867.0\n",
       "C996                 0.0        38242.0\n",
       "C997                 0.0         6878.0\n",
       "\n",
       "[1803 rows x 2 columns]"
      ]
     },
     "execution_count": 120,
     "metadata": {},
     "output_type": "execute_result"
    }
   ],
   "source": [
    "claim_sum = claims.groupby('Customer_id')['ClaimAmount'].sum()\n",
    "payment_sum = payments.groupby('Customer_id')['PaymentAmount'].sum()\n",
    "pd.concat([claim_sum, payment_sum], axis=1).fillna(0)"
   ]
  },
  {
   "cell_type": "code",
   "execution_count": 121,
   "id": "4f6112b7-f8e2-4a7a-8a3f-9c4338431b50",
   "metadata": {},
   "outputs": [
    {
     "name": "stdout",
     "output_type": "stream",
     "text": [
      "             ClaimAmount  PaymentAmount\n",
      "Customer_id                            \n",
      "C1               61204.0          10872\n",
      "C100             58866.0          38350\n",
      "C1000           167064.0          31816\n",
      "C1002                0.0           6150\n",
      "C1004           145628.0          42458\n",
      "...                  ...            ...\n",
      "C991                 0.0          74146\n",
      "C992                 0.0          27840\n",
      "C994                 0.0          36867\n",
      "C996                 0.0          38242\n",
      "C997                 0.0           6878\n",
      "\n",
      "[1740 rows x 2 columns]\n"
     ]
    }
   ],
   "source": [
    "claim_payment= pd.merge(payments, claims, how='left', on='Customer_id')\n",
    "amounts= claim_payment.groupby('Customer_id')[['ClaimAmount','PaymentAmount']].sum()\n",
    "print(amounts)"
   ]
  },
  {
   "cell_type": "code",
   "execution_count": 122,
   "id": "5a228507-b899-42fa-9c8d-39fbf4df258d",
   "metadata": {},
   "outputs": [
    {
     "name": "stdout",
     "output_type": "stream",
     "text": [
      "AgeGroup\n",
      "<30       6685282\n",
      "30-50    11731111\n",
      ">50      12434512\n",
      "Name: ClaimAmount, dtype: int64\n"
     ]
    },
    {
     "name": "stderr",
     "output_type": "stream",
     "text": [
      "C:\\Users\\LENOVO\\AppData\\Local\\Temp\\ipykernel_13032\\2027349011.py:3: FutureWarning: The default of observed=False is deprecated and will be changed to True in a future version of pandas. Pass observed=False to retain current behavior or observed=True to adopt the future default and silence this warning.\n",
      "  result = merged.groupby('AgeGroup')['ClaimAmount'].sum()\n"
     ]
    }
   ],
   "source": [
    "customers['AgeGroup'] = pd.cut(customers['Age'], bins=[0,30,50,100], labels=['<30','30-50','>50'])\n",
    "merged = claims.merge(customers[['Customer_id','AgeGroup']], on='Customer_id')\n",
    "result = merged.groupby('AgeGroup')['ClaimAmount'].sum()\n",
    "print(result)\n"
   ]
  },
  {
   "cell_type": "code",
   "execution_count": 123,
   "id": "347df295-94b4-4d13-ade0-e845464d4f32",
   "metadata": {},
   "outputs": [
    {
     "name": "stdout",
     "output_type": "stream",
     "text": [
      "         TotalClaimAmount  TotalPaymentAmount\n",
      "Month                                        \n",
      "2022-08           68019.0               21512\n",
      "2022-10           32707.0              157484\n",
      "2022-11          108912.0              127260\n",
      "2022-12           75139.0              220961\n",
      "2023-02          206615.0              332055\n",
      "2023-03          164900.0              366375\n",
      "2023-04          343634.0              482136\n",
      "2023-05          315287.0              701073\n",
      "2023-06          147119.0              568761\n",
      "2023-07          309693.0              613379\n",
      "2023-08          424563.0              890055\n",
      "2023-09          199928.0              979214\n",
      "2023-10          399822.0              871379\n",
      "2023-11          605532.0             1227126\n",
      "2023-12          691669.0             1605364\n",
      "2024-01         1137585.0             1641755\n",
      "2024-02          647859.0             1122969\n",
      "2024-03          396125.0             1783293\n",
      "2024-04         1259945.0             1622787\n",
      "2024-05         1275543.0             2333510\n",
      "2024-06          742590.0             2366082\n",
      "2024-07         1130425.0             2527169\n",
      "2024-08         1250266.0             2831014\n",
      "2024-09         1564993.0             2484521\n",
      "2024-10         2811604.0             3102030\n",
      "2024-11         1790538.0             2744675\n",
      "2024-12         1901817.0             3275022\n",
      "2025-01         1301284.0             3612450\n",
      "2025-02         2409189.0             3352450\n",
      "2025-03         3060129.0             4154178\n",
      "2025-04         2131226.0             5151659\n",
      "2025-05         1946248.0             3401410\n",
      "2022-07               0.0               21768\n",
      "2022-09               0.0               23415\n",
      "2023-01               0.0              289845\n"
     ]
    }
   ],
   "source": [
    "claims['Month'] = claims['DateofClaim'].dt.to_period('M')\n",
    "payments['Month'] = payments['PaymentDate'].dt.to_period('M')\n",
    "\n",
    "claims_monthly = claims.groupby('Month')['ClaimAmount'].sum()\n",
    "payments_monthly = payments.groupby('Month')['PaymentAmount'].sum()\n",
    "\n",
    "trend = pd.concat([claims_monthly, payments_monthly], axis=1).fillna(0)\n",
    "trend.columns = ['TotalClaimAmount','TotalPaymentAmount']\n",
    "print(trend)\n"
   ]
  },
  {
   "cell_type": "code",
   "execution_count": 124,
   "id": "785c7a0f-ddca-4f2f-8c38-5650f24338e9",
   "metadata": {},
   "outputs": [],
   "source": [
    "import matplotlib.pyplot as plt"
   ]
  },
  {
   "cell_type": "code",
   "execution_count": 129,
   "id": "553acd9a-fbd3-4eef-b8b0-6d31cb49409b",
   "metadata": {},
   "outputs": [
    {
     "data": {
      "image/png": "[encoded data removed]",
      "text/plain": [
       "<Figure size 640x480 with 1 Axes>"
      ]
     },
     "metadata": {},
     "output_type": "display_data"
    }
   ],
   "source": [
    "# Customer Age Distribution\n",
    "\n",
    "plt.hist(customers['Age'], bins=10, color='lightgreen', edgecolor='black')\n",
    "plt.title('Customer Age Distribution')\n",
    "plt.xlabel('Age')\n",
    "plt.ylabel('Number of Customers')\n",
    "plt.show()\n"
   ]
  },
  {
   "cell_type": "code",
   "execution_count": 131,
   "id": "10552219-a401-4e31-8e0c-84d64178039f",
   "metadata": {},
   "outputs": [
    {
     "data": {
      "image/png": "[encoded data removed]",
      "text/plain": [
       "<Figure size 800x500 with 1 Axes>"
      ]
     },
     "metadata": {},
     "output_type": "display_data"
    }
   ],
   "source": [
    "# Most popular policy types among customers\n",
    "\n",
    "policy_counts = policies['PolicyType'].value_counts()\n",
    "plt.figure(figsize=(8,5))\n",
    "plt.bar(policy_counts.index, policy_counts.values, color='orange')\n",
    "plt.title('Policy Type Popularity')\n",
    "plt.xlabel('Policy Type')\n",
    "plt.ylabel('Number of Policies')\n",
    "plt.show()\n"
   ]
  },
  {
   "cell_type": "code",
   "execution_count": null,
   "id": "2176862f-7045-4367-beba-f838957e780c",
   "metadata": {},
   "outputs": [],
   "source": []
  }
 ],
 "metadata": {
  "kernelspec": {
   "display_name": "Python [conda env:base] *",
   "language": "python",
   "name": "conda-base-py"
  },
  "language_info": {
   "codemirror_mode": {
    "name": "ipython",
    "version": 3
   },
   "file_extension": ".py",
   "mimetype": "text/x-python",
   "name": "python",
   "nbconvert_exporter": "python",
   "pygments_lexer": "ipython3",
   "version": "3.13.5"
  }
 },
 "nbformat": 4,
 "nbformat_minor": 5
}
